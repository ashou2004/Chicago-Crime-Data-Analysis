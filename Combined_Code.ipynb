{
 "cells": [
  {
   "cell_type": "raw",
   "id": "33dd6c4c",
   "metadata": {},
   "source": [
    "---\n",
    "title: \"Project Code\"\n",
    "subtitle: Team name\n",
    "author: Author 1, Author 2, Author 3, and Author 4 \n",
    "date: 12/04/2023\n",
    "number-sections: true\n",
    "abstract: _This file contains the code for the project on <>, as part of the STAT303-1 course in Fall 2023_.\n",
    "format: \n",
    "  html:\n",
    "    toc: true\n",
    "    toc-title: Contents\n",
    "    self-contained: true\n",
    "    font-size: 100%\n",
    "    toc-depth: 4\n",
    "    mainfont: serif\n",
    "jupyter: python3\n",
    "---"
   ]
  },
  {
   "cell_type": "code",
   "execution_count": 89,
   "id": "443f38bb",
   "metadata": {
    "tags": []
   },
   "outputs": [],
   "source": [
    "import pandas as pd\n",
    "import numpy as np\n",
    "import datetime as dt\n",
    "import matplotlib.pyplot as plt\n",
    "import seaborn as sns\n",
    "import warnings\n",
    "import plotly.express as px\n",
    "import warnings\n",
    "warnings.filterwarnings('ignore')"
   ]
  },
  {
   "cell_type": "markdown",
   "id": "fe7ea9bb",
   "metadata": {},
   "source": [
    "## Data quality check / cleaning / preparation \n",
    "\n",
    "Put code with comments. The comments should explain the code such that it can be easily understood. You may put text *(in a markdown cell)* before a large chunk of code to explain the overall purpose of the code, if it is not intuitive. **Put the name of the person / persons who contributed to each code chunk / set of code chunks.** An example is given below."
   ]
  },
  {
   "cell_type": "code",
   "execution_count": 90,
   "id": "42cce32c",
   "metadata": {
    "tags": []
   },
   "outputs": [
    {
     "data": {
      "text/plain": [
       "(239043, 22)"
      ]
     },
     "execution_count": 90,
     "metadata": {},
     "output_type": "execute_result"
    }
   ],
   "source": [
    "raw_crime_data = pd.read_csv(\"crimes_-_2022.csv\")\n",
    "raw_crime_data.shape"
   ]
  },
  {
   "cell_type": "code",
   "execution_count": 91,
   "id": "99594559",
   "metadata": {
    "tags": []
   },
   "outputs": [
    {
     "data": {
      "text/plain": [
       "ID                         0\n",
       "Case Number                0\n",
       "Date                       0\n",
       "Block                      0\n",
       "IUCR                       0\n",
       "Primary Type               0\n",
       "Description                0\n",
       "Location Description     881\n",
       "Arrest                     0\n",
       "Domestic                   0\n",
       "Beat                       0\n",
       "District                   0\n",
       "Ward                      10\n",
       "Community Area             0\n",
       "FBI Code                   0\n",
       "X Coordinate            4107\n",
       "Y Coordinate            4107\n",
       "Year                       0\n",
       "Updated On                 0\n",
       "Latitude                4107\n",
       "Longitude               4107\n",
       "Location                4107\n",
       "dtype: int64"
      ]
     },
     "execution_count": 91,
     "metadata": {},
     "output_type": "execute_result"
    }
   ],
   "source": [
    "raw_crime_data.isnull().sum()"
   ]
  },
  {
   "cell_type": "markdown",
   "id": "371a5a4a",
   "metadata": {},
   "source": [
    "### Full data preparation\n",
    "*By Alyssa Shou*"
   ]
  },
  {
   "cell_type": "code",
   "execution_count": 92,
   "id": "85aac0f7",
   "metadata": {
    "tags": []
   },
   "outputs": [
    {
     "data": {
      "text/plain": [
       "dtype('O')"
      ]
     },
     "execution_count": 92,
     "metadata": {},
     "output_type": "execute_result"
    }
   ],
   "source": [
    "# convert the Date column to datetime object\n",
    "raw_crime_data.Date.dtypes"
   ]
  },
  {
   "cell_type": "code",
   "execution_count": 93,
   "id": "25ddf4d3",
   "metadata": {
    "tags": []
   },
   "outputs": [
    {
     "data": {
      "text/plain": [
       "pandas._libs.tslibs.timestamps.Timestamp"
      ]
     },
     "execution_count": 93,
     "metadata": {},
     "output_type": "execute_result"
    }
   ],
   "source": [
    "# converting the date column to datetime objects #\n",
    "raw_crime_data['Date'] = raw_crime_data['Date'].apply(pd.to_datetime)\n",
    "type(raw_crime_data.Date[0])"
   ]
  },
  {
   "cell_type": "markdown",
   "id": "424479b5",
   "metadata": {},
   "source": [
    "### Crime type preparation\n",
    "*By Alyssa Shou*\n",
    "\n",
    "Since there are 881 NA values in Location Description, I had to drop them because the location of the crimes is necessary for my analysis."
   ]
  },
  {
   "cell_type": "code",
   "execution_count": 94,
   "id": "e67313d7",
   "metadata": {
    "tags": []
   },
   "outputs": [
    {
     "data": {
      "text/plain": [
       "0.0036855293817430338"
      ]
     },
     "execution_count": 94,
     "metadata": {},
     "output_type": "execute_result"
    }
   ],
   "source": [
    "# Dropping a very small percentage of the data so general trends should not change\n",
    "881/239043"
   ]
  },
  {
   "cell_type": "code",
   "execution_count": 95,
   "id": "6f6606f1",
   "metadata": {
    "tags": []
   },
   "outputs": [
    {
     "data": {
      "text/plain": [
       "(238162, 22)"
      ]
     },
     "execution_count": 95,
     "metadata": {},
     "output_type": "execute_result"
    }
   ],
   "source": [
    "time_data = raw_crime_data.dropna(subset = ['Location Description'])\n",
    "time_data.shape"
   ]
  },
  {
   "cell_type": "markdown",
   "id": "6006d7d9",
   "metadata": {},
   "source": [
    "### Theft data preparation\n",
    "*By Grace Chang*\n",
    "\n",
    "The following data preparation steps served to subset theft data and subsequently merge it with community area data in order to run further analyses on theft occurrence across community areas.\n",
    "\n",
    "1. Since the community areas in the original dataset are labeled by their numeric code, I merged it with another dataset to pair these codes with their corresponding community names. \n",
    "\n",
    "2. In the original dataset, numeric codes needed to be converted to double digits so that the merge could take place. All observations of \"The Loop\" were also cleaned so that their format was consistent with the rest of the community area names. "
   ]
  },
  {
   "cell_type": "code",
   "execution_count": 96,
   "id": "56bcc25e",
   "metadata": {
    "tags": []
   },
   "outputs": [],
   "source": [
    "theft_data = raw_crime_data.loc[(raw_crime_data['Primary Type'] == 'THEFT'), :]"
   ]
  },
  {
   "cell_type": "code",
   "execution_count": 97,
   "id": "41a47b8b",
   "metadata": {
    "tags": []
   },
   "outputs": [
    {
     "data": {
      "text/html": [
       "<div>\n",
       "<style scoped>\n",
       "    .dataframe tbody tr th:only-of-type {\n",
       "        vertical-align: middle;\n",
       "    }\n",
       "\n",
       "    .dataframe tbody tr th {\n",
       "        vertical-align: top;\n",
       "    }\n",
       "\n",
       "    .dataframe thead th {\n",
       "        text-align: right;\n",
       "    }\n",
       "</style>\n",
       "<table border=\"1\" class=\"dataframe\">\n",
       "  <thead>\n",
       "    <tr style=\"text-align: right;\">\n",
       "      <th></th>\n",
       "      <th>No.</th>\n",
       "      <th>Community Name</th>\n",
       "      <th>Population</th>\n",
       "      <th>Area (sqmi)</th>\n",
       "      <th>Area (sqkm)</th>\n",
       "      <th>Density (sqmi)</th>\n",
       "      <th>Density (sqkm)</th>\n",
       "    </tr>\n",
       "  </thead>\n",
       "  <tbody>\n",
       "    <tr>\n",
       "      <th>0</th>\n",
       "      <td>01</td>\n",
       "      <td>Rogers Park</td>\n",
       "      <td>55628</td>\n",
       "      <td>1.84</td>\n",
       "      <td>4.77</td>\n",
       "      <td>30232.61</td>\n",
       "      <td>11672.81</td>\n",
       "    </tr>\n",
       "    <tr>\n",
       "      <th>1</th>\n",
       "      <td>02</td>\n",
       "      <td>West Ridge</td>\n",
       "      <td>77122</td>\n",
       "      <td>3.53</td>\n",
       "      <td>9.14</td>\n",
       "      <td>21847.59</td>\n",
       "      <td>8435.36</td>\n",
       "    </tr>\n",
       "    <tr>\n",
       "      <th>2</th>\n",
       "      <td>03</td>\n",
       "      <td>Uptown</td>\n",
       "      <td>57182</td>\n",
       "      <td>2.32</td>\n",
       "      <td>6.01</td>\n",
       "      <td>24647.41</td>\n",
       "      <td>9516.37</td>\n",
       "    </tr>\n",
       "    <tr>\n",
       "      <th>3</th>\n",
       "      <td>04</td>\n",
       "      <td>Lincoln Square</td>\n",
       "      <td>40494</td>\n",
       "      <td>2.56</td>\n",
       "      <td>6.63</td>\n",
       "      <td>15817.97</td>\n",
       "      <td>6107.32</td>\n",
       "    </tr>\n",
       "    <tr>\n",
       "      <th>4</th>\n",
       "      <td>05</td>\n",
       "      <td>North Center</td>\n",
       "      <td>35114</td>\n",
       "      <td>2.05</td>\n",
       "      <td>5.31</td>\n",
       "      <td>17128.78</td>\n",
       "      <td>6613.42</td>\n",
       "    </tr>\n",
       "  </tbody>\n",
       "</table>\n",
       "</div>"
      ],
      "text/plain": [
       "  No.  Community Name  Population  Area (sqmi)  Area (sqkm)  Density (sqmi)  \\\n",
       "0  01     Rogers Park       55628         1.84         4.77        30232.61   \n",
       "1  02      West Ridge       77122         3.53         9.14        21847.59   \n",
       "2  03          Uptown       57182         2.32         6.01        24647.41   \n",
       "3  04  Lincoln Square       40494         2.56         6.63        15817.97   \n",
       "4  05    North Center       35114         2.05         5.31        17128.78   \n",
       "\n",
       "   Density (sqkm)  \n",
       "0        11672.81  \n",
       "1         8435.36  \n",
       "2         9516.37  \n",
       "3         6107.32  \n",
       "4         6613.42  "
      ]
     },
     "execution_count": 97,
     "metadata": {},
     "output_type": "execute_result"
    }
   ],
   "source": [
    "community_areas = pd.read_html('https://en.wikipedia.org/wiki/Community_areas_in_Chicago', match = 'Chicago community areas by number, population, and area')\n",
    "community_areas = community_areas[0]\n",
    "community_areas.columns = [col[0] for col in community_areas.columns]\n",
    "community_areas.columns = [\"No.\", \"Community Name\", \"Population\", \"Area (sqmi)\", \"Area (sqkm)\", \"Density (sqmi)\", \"Density (sqkm)\"]\n",
    "community_areas.head() # Formatting the Community Areas dataset to prepare it for merging"
   ]
  },
  {
   "cell_type": "code",
   "execution_count": 98,
   "id": "62c3117e",
   "metadata": {
    "tags": []
   },
   "outputs": [
    {
     "data": {
      "text/plain": [
       "08    4251\n",
       "32    3464\n",
       "28    3373\n",
       "24    2681\n",
       "06    2268\n",
       "25    1823\n",
       "Name: Community Area, dtype: int64"
      ]
     },
     "execution_count": 98,
     "metadata": {},
     "output_type": "execute_result"
    }
   ],
   "source": [
    "theft_data.loc[:,'Community Area'] = theft_data['Community Area'].apply(lambda x: f'{int(x):02d}' if isinstance(x, (int, str)) and str(x).isdigit() else x)\n",
    "theft_data['Community Area'].value_counts().head(6) # Checking that the single digit codes were indeed converted to double digit format"
   ]
  },
  {
   "cell_type": "code",
   "execution_count": 99,
   "id": "9996248d",
   "metadata": {
    "tags": []
   },
   "outputs": [
    {
     "data": {
      "text/html": [
       "<div>\n",
       "<style scoped>\n",
       "    .dataframe tbody tr th:only-of-type {\n",
       "        vertical-align: middle;\n",
       "    }\n",
       "\n",
       "    .dataframe tbody tr th {\n",
       "        vertical-align: top;\n",
       "    }\n",
       "\n",
       "    .dataframe thead th {\n",
       "        text-align: right;\n",
       "    }\n",
       "</style>\n",
       "<table border=\"1\" class=\"dataframe\">\n",
       "  <thead>\n",
       "    <tr style=\"text-align: right;\">\n",
       "      <th></th>\n",
       "      <th>ID</th>\n",
       "      <th>Case Number</th>\n",
       "      <th>Date</th>\n",
       "      <th>Block</th>\n",
       "      <th>IUCR</th>\n",
       "      <th>Primary Type</th>\n",
       "      <th>Description</th>\n",
       "      <th>Location Description</th>\n",
       "      <th>Arrest</th>\n",
       "      <th>Domestic</th>\n",
       "      <th>...</th>\n",
       "      <th>Latitude</th>\n",
       "      <th>Longitude</th>\n",
       "      <th>Location</th>\n",
       "      <th>No.</th>\n",
       "      <th>Community Name</th>\n",
       "      <th>Population</th>\n",
       "      <th>Area (sqmi)</th>\n",
       "      <th>Area (sqkm)</th>\n",
       "      <th>Density (sqmi)</th>\n",
       "      <th>Density (sqkm)</th>\n",
       "    </tr>\n",
       "  </thead>\n",
       "  <tbody>\n",
       "    <tr>\n",
       "      <th>0</th>\n",
       "      <td>13209277</td>\n",
       "      <td>JG422539</td>\n",
       "      <td>2022-08-15 09:00:00</td>\n",
       "      <td>0000X W JACKSON BLVD</td>\n",
       "      <td>0810</td>\n",
       "      <td>THEFT</td>\n",
       "      <td>OVER $500</td>\n",
       "      <td>COMMERCIAL / BUSINESS OFFICE</td>\n",
       "      <td>False</td>\n",
       "      <td>False</td>\n",
       "      <td>...</td>\n",
       "      <td>NaN</td>\n",
       "      <td>NaN</td>\n",
       "      <td>NaN</td>\n",
       "      <td>32</td>\n",
       "      <td>The Loop</td>\n",
       "      <td>42298</td>\n",
       "      <td>1.65</td>\n",
       "      <td>4.27</td>\n",
       "      <td>25635.15</td>\n",
       "      <td>9897.73</td>\n",
       "    </tr>\n",
       "    <tr>\n",
       "      <th>1</th>\n",
       "      <td>12678035</td>\n",
       "      <td>JF216671</td>\n",
       "      <td>2022-04-22 23:30:00</td>\n",
       "      <td>044XX N BROADWAY</td>\n",
       "      <td>0810</td>\n",
       "      <td>THEFT</td>\n",
       "      <td>OVER $500</td>\n",
       "      <td>APARTMENT</td>\n",
       "      <td>True</td>\n",
       "      <td>True</td>\n",
       "      <td>...</td>\n",
       "      <td>41.962247</td>\n",
       "      <td>-87.655460</td>\n",
       "      <td>(41.962247182, -87.6554598)</td>\n",
       "      <td>03</td>\n",
       "      <td>Uptown</td>\n",
       "      <td>57182</td>\n",
       "      <td>2.32</td>\n",
       "      <td>6.01</td>\n",
       "      <td>24647.41</td>\n",
       "      <td>9516.37</td>\n",
       "    </tr>\n",
       "    <tr>\n",
       "      <th>2</th>\n",
       "      <td>12713141</td>\n",
       "      <td>JF259485</td>\n",
       "      <td>2022-05-29 00:00:00</td>\n",
       "      <td>014XX S MUSEUM CAMPUS DR</td>\n",
       "      <td>0870</td>\n",
       "      <td>THEFT</td>\n",
       "      <td>POCKET-PICKING</td>\n",
       "      <td>SPORTS ARENA / STADIUM</td>\n",
       "      <td>False</td>\n",
       "      <td>False</td>\n",
       "      <td>...</td>\n",
       "      <td>NaN</td>\n",
       "      <td>NaN</td>\n",
       "      <td>NaN</td>\n",
       "      <td>33</td>\n",
       "      <td>Near South Side</td>\n",
       "      <td>28795</td>\n",
       "      <td>1.78</td>\n",
       "      <td>4.61</td>\n",
       "      <td>16176.97</td>\n",
       "      <td>6245.93</td>\n",
       "    </tr>\n",
       "    <tr>\n",
       "      <th>3</th>\n",
       "      <td>12938108</td>\n",
       "      <td>JF528867</td>\n",
       "      <td>2022-12-29 15:00:00</td>\n",
       "      <td>068XX S PULASKI RD</td>\n",
       "      <td>0810</td>\n",
       "      <td>THEFT</td>\n",
       "      <td>OVER $500</td>\n",
       "      <td>PARKING LOT / GARAGE (NON RESIDENTIAL)</td>\n",
       "      <td>False</td>\n",
       "      <td>False</td>\n",
       "      <td>...</td>\n",
       "      <td>41.769329</td>\n",
       "      <td>-87.722522</td>\n",
       "      <td>(41.769329199, -87.722521726)</td>\n",
       "      <td>65</td>\n",
       "      <td>West Lawn</td>\n",
       "      <td>33662</td>\n",
       "      <td>2.95</td>\n",
       "      <td>7.64</td>\n",
       "      <td>11410.85</td>\n",
       "      <td>4405.73</td>\n",
       "    </tr>\n",
       "    <tr>\n",
       "      <th>4</th>\n",
       "      <td>12628296</td>\n",
       "      <td>JF156473</td>\n",
       "      <td>2022-02-05 16:02:00</td>\n",
       "      <td>019XX S Drake Ave</td>\n",
       "      <td>0820</td>\n",
       "      <td>THEFT</td>\n",
       "      <td>$500 AND UNDER</td>\n",
       "      <td>RESIDENCE</td>\n",
       "      <td>False</td>\n",
       "      <td>False</td>\n",
       "      <td>...</td>\n",
       "      <td>NaN</td>\n",
       "      <td>NaN</td>\n",
       "      <td>NaN</td>\n",
       "      <td>29</td>\n",
       "      <td>North Lawndale</td>\n",
       "      <td>34794</td>\n",
       "      <td>3.21</td>\n",
       "      <td>8.31</td>\n",
       "      <td>10839.25</td>\n",
       "      <td>4185.04</td>\n",
       "    </tr>\n",
       "  </tbody>\n",
       "</table>\n",
       "<p>5 rows × 29 columns</p>\n",
       "</div>"
      ],
      "text/plain": [
       "         ID Case Number                Date                     Block  IUCR  \\\n",
       "0  13209277    JG422539 2022-08-15 09:00:00      0000X W JACKSON BLVD  0810   \n",
       "1  12678035    JF216671 2022-04-22 23:30:00          044XX N BROADWAY  0810   \n",
       "2  12713141    JF259485 2022-05-29 00:00:00  014XX S MUSEUM CAMPUS DR  0870   \n",
       "3  12938108    JF528867 2022-12-29 15:00:00        068XX S PULASKI RD  0810   \n",
       "4  12628296    JF156473 2022-02-05 16:02:00         019XX S Drake Ave  0820   \n",
       "\n",
       "  Primary Type     Description                    Location Description  \\\n",
       "0        THEFT       OVER $500            COMMERCIAL / BUSINESS OFFICE   \n",
       "1        THEFT       OVER $500                               APARTMENT   \n",
       "2        THEFT  POCKET-PICKING                  SPORTS ARENA / STADIUM   \n",
       "3        THEFT       OVER $500  PARKING LOT / GARAGE (NON RESIDENTIAL)   \n",
       "4        THEFT  $500 AND UNDER                               RESIDENCE   \n",
       "\n",
       "   Arrest  Domestic  ...   Latitude  Longitude                       Location  \\\n",
       "0   False     False  ...        NaN        NaN                            NaN   \n",
       "1    True      True  ...  41.962247 -87.655460    (41.962247182, -87.6554598)   \n",
       "2   False     False  ...        NaN        NaN                            NaN   \n",
       "3   False     False  ...  41.769329 -87.722522  (41.769329199, -87.722521726)   \n",
       "4   False     False  ...        NaN        NaN                            NaN   \n",
       "\n",
       "  No.   Community Name  Population  Area (sqmi)  Area (sqkm) Density (sqmi)  \\\n",
       "0  32         The Loop       42298         1.65         4.27       25635.15   \n",
       "1  03           Uptown       57182         2.32         6.01       24647.41   \n",
       "2  33  Near South Side       28795         1.78         4.61       16176.97   \n",
       "3  65        West Lawn       33662         2.95         7.64       11410.85   \n",
       "4  29   North Lawndale       34794         3.21         8.31       10839.25   \n",
       "\n",
       "   Density (sqkm)  \n",
       "0         9897.73  \n",
       "1         9516.37  \n",
       "2         6245.93  \n",
       "3         4405.73  \n",
       "4         4185.04  \n",
       "\n",
       "[5 rows x 29 columns]"
      ]
     },
     "execution_count": 99,
     "metadata": {},
     "output_type": "execute_result"
    }
   ],
   "source": [
    "theft_data.loc[:,'Community Area'] = theft_data['Community Area'].astype(str)\n",
    "theft_community_data = theft_data.merge(community_areas, left_on = 'Community Area', right_on = 'No.', how = 'left')\n",
    "theft_community_data['Community Name'] = theft_community_data['Community Name'].apply(lambda x: x.replace('(The) Loop[11]', 'The Loop'))\n",
    "theft_community_data.head() # The newly merged dataset with cleaned community names"
   ]
  },
  {
   "cell_type": "markdown",
   "id": "a0abcb0f",
   "metadata": {},
   "source": [
    "*By Ryu Kimiko*\n",
    "\n",
    "The following data preparation steps helped us to prepare our data for implementing various modeling / validation techniques:\n",
    "\n",
    "1. Since we need are analyzing house price, we derived some new variables *(from existing variables)* that intuitively seem to be associated with house price. \n",
    "\n",
    "2. We have created a standardized version of the dataset, as we are computing Euclidean distances to find houses similar to a given house"
   ]
  },
  {
   "cell_type": "markdown",
   "id": "4e582211",
   "metadata": {},
   "source": [
    "### Arrest data preparation\n",
    "\n",
    "*By Paisley Lucier*\n",
    "\n",
    "The following data preparation steps helped us to prepare our data for implementing various modeling / validation techniques:\n",
    "\n",
    "1. Since I will be considering arrest proportion by district, I will look at the distribution of district.\n",
    "\n",
    "2. We have created a standardized version of the dataset, as we are computing Euclidean distances to find houses similar to a given house"
   ]
  },
  {
   "cell_type": "code",
   "execution_count": 100,
   "id": "ef003c46",
   "metadata": {
    "tags": []
   },
   "outputs": [
    {
     "data": {
      "text/plain": [
       "8     14811\n",
       "6     14709\n",
       "12    14353\n",
       "4     13948\n",
       "11    13474\n",
       "1     13058\n",
       "18    12444\n",
       "19    12259\n",
       "25    11955\n",
       "3     11937\n",
       "2     11799\n",
       "9     10375\n",
       "7     10323\n",
       "10     9970\n",
       "5      9785\n",
       "16     9242\n",
       "24     8474\n",
       "15     8310\n",
       "14     8166\n",
       "22     7674\n",
       "17     6996\n",
       "20     4967\n",
       "31       14\n",
       "Name: District, dtype: int64"
      ]
     },
     "execution_count": 100,
     "metadata": {},
     "output_type": "execute_result"
    }
   ],
   "source": [
    "raw_crime_data.District.value_counts()\n"
   ]
  },
  {
   "cell_type": "code",
   "execution_count": 101,
   "id": "1dba899f",
   "metadata": {
    "tags": []
   },
   "outputs": [
    {
     "data": {
      "text/plain": [
       "5.856686872236376e-05"
      ]
     },
     "execution_count": 101,
     "metadata": {},
     "output_type": "execute_result"
    }
   ],
   "source": [
    "14 / raw_crime_data.shape[0]"
   ]
  },
  {
   "cell_type": "code",
   "execution_count": 102,
   "id": "9948e954",
   "metadata": {
    "tags": []
   },
   "outputs": [
    {
     "data": {
      "text/html": [
       "<div>\n",
       "<style scoped>\n",
       "    .dataframe tbody tr th:only-of-type {\n",
       "        vertical-align: middle;\n",
       "    }\n",
       "\n",
       "    .dataframe tbody tr th {\n",
       "        vertical-align: top;\n",
       "    }\n",
       "\n",
       "    .dataframe thead th {\n",
       "        text-align: right;\n",
       "    }\n",
       "</style>\n",
       "<table border=\"1\" class=\"dataframe\">\n",
       "  <thead>\n",
       "    <tr style=\"text-align: right;\">\n",
       "      <th></th>\n",
       "      <th>ID</th>\n",
       "      <th>Case Number</th>\n",
       "      <th>Date</th>\n",
       "      <th>Block</th>\n",
       "      <th>IUCR</th>\n",
       "      <th>Primary Type</th>\n",
       "      <th>Description</th>\n",
       "      <th>Location Description</th>\n",
       "      <th>Arrest</th>\n",
       "      <th>Domestic</th>\n",
       "      <th>...</th>\n",
       "      <th>Community Area</th>\n",
       "      <th>FBI Code</th>\n",
       "      <th>X Coordinate</th>\n",
       "      <th>Y Coordinate</th>\n",
       "      <th>Year</th>\n",
       "      <th>Updated On</th>\n",
       "      <th>Latitude</th>\n",
       "      <th>Longitude</th>\n",
       "      <th>Location</th>\n",
       "      <th>Side</th>\n",
       "    </tr>\n",
       "  </thead>\n",
       "  <tbody>\n",
       "    <tr>\n",
       "      <th>0</th>\n",
       "      <td>12589893</td>\n",
       "      <td>JF109865</td>\n",
       "      <td>2022-01-11 15:00:00</td>\n",
       "      <td>087XX S KINGSTON AVE</td>\n",
       "      <td>1565</td>\n",
       "      <td>SEX OFFENSE</td>\n",
       "      <td>INDECENT SOLICITATION OF A CHILD</td>\n",
       "      <td>RESIDENCE</td>\n",
       "      <td>False</td>\n",
       "      <td>True</td>\n",
       "      <td>...</td>\n",
       "      <td>46</td>\n",
       "      <td>17</td>\n",
       "      <td>1194660.0</td>\n",
       "      <td>1847481.0</td>\n",
       "      <td>2022</td>\n",
       "      <td>09/14/2023 03:41:59 PM</td>\n",
       "      <td>41.736409</td>\n",
       "      <td>-87.562410</td>\n",
       "      <td>(41.736409029, -87.562410309)</td>\n",
       "      <td>South</td>\n",
       "    </tr>\n",
       "    <tr>\n",
       "      <th>1</th>\n",
       "      <td>12592454</td>\n",
       "      <td>JF113025</td>\n",
       "      <td>2022-01-14 15:55:00</td>\n",
       "      <td>067XX S MORGAN ST</td>\n",
       "      <td>2826</td>\n",
       "      <td>OTHER OFFENSE</td>\n",
       "      <td>HARASSMENT BY ELECTRONIC MEANS</td>\n",
       "      <td>RESIDENCE</td>\n",
       "      <td>False</td>\n",
       "      <td>True</td>\n",
       "      <td>...</td>\n",
       "      <td>68</td>\n",
       "      <td>26</td>\n",
       "      <td>1170805.0</td>\n",
       "      <td>1860170.0</td>\n",
       "      <td>2022</td>\n",
       "      <td>09/14/2023 03:41:59 PM</td>\n",
       "      <td>41.771782</td>\n",
       "      <td>-87.649437</td>\n",
       "      <td>(41.771782439, -87.649436929)</td>\n",
       "      <td>South</td>\n",
       "    </tr>\n",
       "    <tr>\n",
       "      <th>2</th>\n",
       "      <td>12785595</td>\n",
       "      <td>JF346553</td>\n",
       "      <td>2022-08-05 21:00:00</td>\n",
       "      <td>072XX S UNIVERSITY AVE</td>\n",
       "      <td>1544</td>\n",
       "      <td>SEX OFFENSE</td>\n",
       "      <td>SEXUAL EXPLOITATION OF A CHILD</td>\n",
       "      <td>APARTMENT</td>\n",
       "      <td>True</td>\n",
       "      <td>False</td>\n",
       "      <td>...</td>\n",
       "      <td>69</td>\n",
       "      <td>17</td>\n",
       "      <td>1185135.0</td>\n",
       "      <td>1857211.0</td>\n",
       "      <td>2022</td>\n",
       "      <td>09/14/2023 03:41:59 PM</td>\n",
       "      <td>41.763338</td>\n",
       "      <td>-87.597001</td>\n",
       "      <td>(41.763337967, -87.597001131)</td>\n",
       "      <td>Central</td>\n",
       "    </tr>\n",
       "    <tr>\n",
       "      <th>3</th>\n",
       "      <td>12808281</td>\n",
       "      <td>JF373517</td>\n",
       "      <td>2022-08-14 14:00:00</td>\n",
       "      <td>055XX W ARDMORE AVE</td>\n",
       "      <td>1562</td>\n",
       "      <td>SEX OFFENSE</td>\n",
       "      <td>AGGRAVATED CRIMINAL SEXUAL ABUSE</td>\n",
       "      <td>RESIDENCE</td>\n",
       "      <td>False</td>\n",
       "      <td>False</td>\n",
       "      <td>...</td>\n",
       "      <td>11</td>\n",
       "      <td>17</td>\n",
       "      <td>1138383.0</td>\n",
       "      <td>1937953.0</td>\n",
       "      <td>2022</td>\n",
       "      <td>09/14/2023 03:41:59 PM</td>\n",
       "      <td>41.985875</td>\n",
       "      <td>-87.766404</td>\n",
       "      <td>(41.985875279, -87.766403857)</td>\n",
       "      <td>North</td>\n",
       "    </tr>\n",
       "    <tr>\n",
       "      <th>4</th>\n",
       "      <td>12888104</td>\n",
       "      <td>JF469015</td>\n",
       "      <td>2022-11-10 03:47:00</td>\n",
       "      <td>072XX S MAY ST</td>\n",
       "      <td>1477</td>\n",
       "      <td>WEAPONS VIOLATION</td>\n",
       "      <td>RECKLESS FIREARM DISCHARGE</td>\n",
       "      <td>STREET</td>\n",
       "      <td>False</td>\n",
       "      <td>False</td>\n",
       "      <td>...</td>\n",
       "      <td>68</td>\n",
       "      <td>15</td>\n",
       "      <td>1169903.0</td>\n",
       "      <td>1856822.0</td>\n",
       "      <td>2022</td>\n",
       "      <td>09/14/2023 03:41:59 PM</td>\n",
       "      <td>41.762615</td>\n",
       "      <td>-87.652840</td>\n",
       "      <td>(41.76261474, -87.652840463)</td>\n",
       "      <td>South</td>\n",
       "    </tr>\n",
       "  </tbody>\n",
       "</table>\n",
       "<p>5 rows × 23 columns</p>\n",
       "</div>"
      ],
      "text/plain": [
       "         ID Case Number                Date                   Block  IUCR  \\\n",
       "0  12589893    JF109865 2022-01-11 15:00:00    087XX S KINGSTON AVE  1565   \n",
       "1  12592454    JF113025 2022-01-14 15:55:00       067XX S MORGAN ST  2826   \n",
       "2  12785595    JF346553 2022-08-05 21:00:00  072XX S UNIVERSITY AVE  1544   \n",
       "3  12808281    JF373517 2022-08-14 14:00:00     055XX W ARDMORE AVE  1562   \n",
       "4  12888104    JF469015 2022-11-10 03:47:00          072XX S MAY ST  1477   \n",
       "\n",
       "        Primary Type                       Description Location Description  \\\n",
       "0        SEX OFFENSE  INDECENT SOLICITATION OF A CHILD            RESIDENCE   \n",
       "1      OTHER OFFENSE    HARASSMENT BY ELECTRONIC MEANS            RESIDENCE   \n",
       "2        SEX OFFENSE    SEXUAL EXPLOITATION OF A CHILD            APARTMENT   \n",
       "3        SEX OFFENSE  AGGRAVATED CRIMINAL SEXUAL ABUSE            RESIDENCE   \n",
       "4  WEAPONS VIOLATION        RECKLESS FIREARM DISCHARGE               STREET   \n",
       "\n",
       "   Arrest  Domestic  ...  Community Area  FBI Code  X Coordinate  \\\n",
       "0   False      True  ...              46        17     1194660.0   \n",
       "1   False      True  ...              68        26     1170805.0   \n",
       "2    True     False  ...              69        17     1185135.0   \n",
       "3   False     False  ...              11        17     1138383.0   \n",
       "4   False     False  ...              68        15     1169903.0   \n",
       "\n",
       "   Y Coordinate  Year              Updated On   Latitude  Longitude  \\\n",
       "0     1847481.0  2022  09/14/2023 03:41:59 PM  41.736409 -87.562410   \n",
       "1     1860170.0  2022  09/14/2023 03:41:59 PM  41.771782 -87.649437   \n",
       "2     1857211.0  2022  09/14/2023 03:41:59 PM  41.763338 -87.597001   \n",
       "3     1937953.0  2022  09/14/2023 03:41:59 PM  41.985875 -87.766404   \n",
       "4     1856822.0  2022  09/14/2023 03:41:59 PM  41.762615 -87.652840   \n",
       "\n",
       "                        Location     Side  \n",
       "0  (41.736409029, -87.562410309)    South  \n",
       "1  (41.771782439, -87.649436929)    South  \n",
       "2  (41.763337967, -87.597001131)  Central  \n",
       "3  (41.985875279, -87.766403857)    North  \n",
       "4   (41.76261474, -87.652840463)    South  \n",
       "\n",
       "[5 rows x 23 columns]"
      ]
     },
     "execution_count": 102,
     "metadata": {},
     "output_type": "execute_result"
    }
   ],
   "source": [
    "# making a new column that bins the data into 'side' of Chicago--source:\n",
    "\n",
    "arrest_data = raw_crime_data.copy()\n",
    "arrest_data['Side'] = arrest_data.District\n",
    "arrest_data['Side'] = arrest_data['Side'].map({4: 'South', 5: 'South', 6: 'South', 7: 'South', 22: 'South', 31: 'South', \\\n",
    "                       11: \"North\", 14: 'North', 15: 'North', 16: 'North', 17: 'North', 19: 'North', 20: 'North',\\\n",
    "                       24: 'North', 25: 'North', 1: 'Central', 2: 'Central', 3: 'Central', 8: 'Central', \\\n",
    "                        9: 'Central', 10: 'Central', 12: 'Central', 13: 'Central', 18: 'Central'})\n",
    "arrest_data.head()"
   ]
  },
  {
   "cell_type": "code",
   "execution_count": 103,
   "id": "44fb131c",
   "metadata": {
    "tags": []
   },
   "outputs": [],
   "source": [
    "# considering that district 31 has only 14 observations (which is 5.856686872236376e-03% of the observations),\n",
    "#and is split between the North and South side on the source map, I considered only the subset of crimes where\n",
    "# the district was not 31\n",
    "arrest_data = arrest_data.loc[arrest_data['District'] != 31, :]\n"
   ]
  },
  {
   "cell_type": "code",
   "execution_count": 105,
   "id": "da78f801-68e5-46d8-a0b2-e5ef7c62a688",
   "metadata": {},
   "outputs": [
    {
     "data": {
      "text/html": [
       "<div>\n",
       "<style scoped>\n",
       "    .dataframe tbody tr th:only-of-type {\n",
       "        vertical-align: middle;\n",
       "    }\n",
       "\n",
       "    .dataframe tbody tr th {\n",
       "        vertical-align: top;\n",
       "    }\n",
       "\n",
       "    .dataframe thead th {\n",
       "        text-align: right;\n",
       "    }\n",
       "</style>\n",
       "<table border=\"1\" class=\"dataframe\">\n",
       "  <thead>\n",
       "    <tr style=\"text-align: right;\">\n",
       "      <th></th>\n",
       "      <th>DISTRICT</th>\n",
       "      <th>SAFETY</th>\n",
       "      <th>TRUST</th>\n",
       "      <th>T_RESPECT</th>\n",
       "      <th>T_LISTEN</th>\n",
       "    </tr>\n",
       "  </thead>\n",
       "  <tbody>\n",
       "    <tr>\n",
       "      <th>0</th>\n",
       "      <td>20.0</td>\n",
       "      <td>61.02</td>\n",
       "      <td>57.79</td>\n",
       "      <td>57.96</td>\n",
       "      <td>57.61</td>\n",
       "    </tr>\n",
       "    <tr>\n",
       "      <th>3</th>\n",
       "      <td>8.0</td>\n",
       "      <td>58.39</td>\n",
       "      <td>62.83</td>\n",
       "      <td>64.46</td>\n",
       "      <td>61.20</td>\n",
       "    </tr>\n",
       "    <tr>\n",
       "      <th>9</th>\n",
       "      <td>25.0</td>\n",
       "      <td>67.50</td>\n",
       "      <td>58.93</td>\n",
       "      <td>60.27</td>\n",
       "      <td>57.59</td>\n",
       "    </tr>\n",
       "    <tr>\n",
       "      <th>16</th>\n",
       "      <td>16.0</td>\n",
       "      <td>64.37</td>\n",
       "      <td>71.46</td>\n",
       "      <td>73.37</td>\n",
       "      <td>69.55</td>\n",
       "    </tr>\n",
       "    <tr>\n",
       "      <th>25</th>\n",
       "      <td>25.0</td>\n",
       "      <td>62.51</td>\n",
       "      <td>65.83</td>\n",
       "      <td>66.45</td>\n",
       "      <td>65.22</td>\n",
       "    </tr>\n",
       "    <tr>\n",
       "      <th>...</th>\n",
       "      <td>...</td>\n",
       "      <td>...</td>\n",
       "      <td>...</td>\n",
       "      <td>...</td>\n",
       "      <td>...</td>\n",
       "    </tr>\n",
       "    <tr>\n",
       "      <th>7248</th>\n",
       "      <td>11.0</td>\n",
       "      <td>53.02</td>\n",
       "      <td>47.70</td>\n",
       "      <td>48.64</td>\n",
       "      <td>46.76</td>\n",
       "    </tr>\n",
       "    <tr>\n",
       "      <th>7251</th>\n",
       "      <td>19.0</td>\n",
       "      <td>59.55</td>\n",
       "      <td>64.68</td>\n",
       "      <td>69.81</td>\n",
       "      <td>59.55</td>\n",
       "    </tr>\n",
       "    <tr>\n",
       "      <th>7254</th>\n",
       "      <td>12.0</td>\n",
       "      <td>58.63</td>\n",
       "      <td>57.17</td>\n",
       "      <td>59.86</td>\n",
       "      <td>54.49</td>\n",
       "    </tr>\n",
       "    <tr>\n",
       "      <th>7256</th>\n",
       "      <td>20.0</td>\n",
       "      <td>62.12</td>\n",
       "      <td>60.23</td>\n",
       "      <td>61.71</td>\n",
       "      <td>58.75</td>\n",
       "    </tr>\n",
       "    <tr>\n",
       "      <th>7260</th>\n",
       "      <td>17.0</td>\n",
       "      <td>64.77</td>\n",
       "      <td>64.76</td>\n",
       "      <td>65.45</td>\n",
       "      <td>64.08</td>\n",
       "    </tr>\n",
       "  </tbody>\n",
       "</table>\n",
       "<p>1164 rows × 5 columns</p>\n",
       "</div>"
      ],
      "text/plain": [
       "      DISTRICT  SAFETY  TRUST  T_RESPECT  T_LISTEN\n",
       "0         20.0   61.02  57.79      57.96     57.61\n",
       "3          8.0   58.39  62.83      64.46     61.20\n",
       "9         25.0   67.50  58.93      60.27     57.59\n",
       "16        16.0   64.37  71.46      73.37     69.55\n",
       "25        25.0   62.51  65.83      66.45     65.22\n",
       "...        ...     ...    ...        ...       ...\n",
       "7248      11.0   53.02  47.70      48.64     46.76\n",
       "7251      19.0   59.55  64.68      69.81     59.55\n",
       "7254      12.0   58.63  57.17      59.86     54.49\n",
       "7256      20.0   62.12  60.23      61.71     58.75\n",
       "7260      17.0   64.77  64.76      65.45     64.08\n",
       "\n",
       "[1164 rows x 5 columns]"
      ]
     },
     "execution_count": 105,
     "metadata": {},
     "output_type": "execute_result"
    }
   ],
   "source": [
    "# read sentiments data\n",
    "sentiments = pd.read_csv('Police_Sentiment_Scores.csv')\n",
    "\n",
    "# convert start date to datetime, subset only the values from 2022\n",
    "\n",
    "sentiments['START_DATE'] = pd.to_datetime(sentiments['START_DATE'])\n",
    "sentiments['START_DATE'] = sentiments['START_DATE'].map(lambda x: True if x.year == 2022 else False)\n",
    "sentiments_2022 = sentiments.loc[sentiments['START_DATE'] == True, :]\n",
    "\n",
    "# also subset only the general columns\n",
    "sentiments_2022 = sentiments_2022.loc[:, ['DISTRICT', 'SAFETY', 'TRUST', 'T_RESPECT', 'T_LISTEN']]\n",
    "sentiments_2022"
   ]
  },
  {
   "cell_type": "markdown",
   "id": "73c7df3c-7b21-4327-afad-ac034285832f",
   "metadata": {},
   "source": [
    "### CTA data preparation\n",
    "*By Grace Shao*\n",
    "\n",
    "Implementing the following steps allowed for missing location data to be removed and community area names to be included with their corresponding numbers for enhanced readibility and analysis. \n",
    "\n",
    "1. After subsetting the data to include only crimes that occurred at CTA stations, I removed observations with missing longitude and latitude values. Location data will be used in my data analysis, and removing NA values ensures a clean dataset. Since only around 1% of the CTA data was removed, this step does not have a significant impact on my conclusions. \n",
    "2. Next, I added the names of the community areas. Originally, the column in the raw dataset included the numeric codes of the areas, but not their names. I merged my data with a Wikipedia table that included both to aid in my analysis.\n",
    "3. After merging, all observations of \"The Loop\" have extra characters at the end. Removing those extra characters ensured that it matched the other community areas' names. "
   ]
  },
  {
   "cell_type": "code",
   "execution_count": 106,
   "id": "bf085c20-2b67-412b-9f0c-5560f2bfe8ce",
   "metadata": {
    "tags": []
   },
   "outputs": [
    {
     "name": "stdout",
     "output_type": "stream",
     "text": [
      "Number of missing longitudes: 31 Number of missing latitudes: 31\n",
      "Percentage of missing values out of all values is 1.2684124386252045 %\n"
     ]
    }
   ],
   "source": [
    "crimesCTA = raw_crime_data.loc[raw_crime_data['Location Description'].apply(lambda x: 'CTA' in str(x) and 'CTA BUS' not in str(x) \n",
    "                                                            and 'CTA PARKING LOT / GARAGE / OTHER PROPERTY' not in str(x)), :]\n",
    "\n",
    "# Drop NA location values (longitude and latitude)\n",
    "numberRows = crimesCTA.shape[0]\n",
    "numberLongitudeNA = crimesCTA['Longitude'].isna().sum()\n",
    "numberLatitudeNA = crimesCTA['Latitude'].isna().sum()\n",
    "print(\"Number of missing longitudes:\", numberLongitudeNA, \"Number of missing latitudes:\", numberLatitudeNA)\n",
    "print(\"Percentage of missing values out of all values is\", numberLongitudeNA/numberRows*100, \"%\")\n",
    "\n",
    "crimesCTA.dropna(subset=['Longitude'], inplace=True)\n",
    "crimesCTA.dropna(subset=['Latitude'], inplace=True)"
   ]
  },
  {
   "cell_type": "code",
   "execution_count": 107,
   "id": "85dc94d0-2df1-42b1-ad41-378a7058a945",
   "metadata": {
    "tags": []
   },
   "outputs": [
    {
     "data": {
      "text/html": [
       "<div>\n",
       "<style scoped>\n",
       "    .dataframe tbody tr th:only-of-type {\n",
       "        vertical-align: middle;\n",
       "    }\n",
       "\n",
       "    .dataframe tbody tr th {\n",
       "        vertical-align: top;\n",
       "    }\n",
       "\n",
       "    .dataframe thead th {\n",
       "        text-align: right;\n",
       "    }\n",
       "</style>\n",
       "<table border=\"1\" class=\"dataframe\">\n",
       "  <thead>\n",
       "    <tr style=\"text-align: right;\">\n",
       "      <th></th>\n",
       "      <th>Community Area</th>\n",
       "      <th>Name</th>\n",
       "    </tr>\n",
       "  </thead>\n",
       "  <tbody>\n",
       "    <tr>\n",
       "      <th>0</th>\n",
       "      <td>01</td>\n",
       "      <td>Rogers Park</td>\n",
       "    </tr>\n",
       "    <tr>\n",
       "      <th>1</th>\n",
       "      <td>02</td>\n",
       "      <td>West Ridge</td>\n",
       "    </tr>\n",
       "    <tr>\n",
       "      <th>2</th>\n",
       "      <td>03</td>\n",
       "      <td>Uptown</td>\n",
       "    </tr>\n",
       "    <tr>\n",
       "      <th>3</th>\n",
       "      <td>04</td>\n",
       "      <td>Lincoln Square</td>\n",
       "    </tr>\n",
       "    <tr>\n",
       "      <th>4</th>\n",
       "      <td>05</td>\n",
       "      <td>North Center</td>\n",
       "    </tr>\n",
       "  </tbody>\n",
       "</table>\n",
       "</div>"
      ],
      "text/plain": [
       "  Community Area            Name\n",
       "0             01     Rogers Park\n",
       "1             02      West Ridge\n",
       "2             03          Uptown\n",
       "3             04  Lincoln Square\n",
       "4             05    North Center"
      ]
     },
     "execution_count": 107,
     "metadata": {},
     "output_type": "execute_result"
    }
   ],
   "source": [
    "# Add a column with the names of the community areas instead of just the number\n",
    "communityAreas = pd.read_html('https://en.wikipedia.org/wiki/Community_areas_in_Chicago', match = 'Chicago community areas by number, population, and area')\n",
    "communityAreas = communityAreas[0]\n",
    "communityAreas.columns = [col[0] for col in communityAreas.columns]\n",
    "communityAreas = communityAreas.iloc[:-1, [0,1]]\n",
    "communityAreas.rename(columns={'No.': 'Community Area'}, inplace=True)\n",
    "communityAreas.head()"
   ]
  },
  {
   "cell_type": "code",
   "execution_count": 108,
   "id": "ead913de-e700-439d-88ac-457c8e715729",
   "metadata": {
    "tags": []
   },
   "outputs": [],
   "source": [
    "crimesCTA['Community Area'] = crimesCTA['Community Area'].astype('int64')\n",
    "communityAreas['Community Area'] = communityAreas['Community Area'].astype('int64')\n",
    "crimesCTA = pd.merge(crimesCTA, communityAreas, on='Community Area', how='inner')\n",
    "crimesCTA['Name'] = crimesCTA['Name'].apply(lambda x: x.replace('(The) Loop[11]', 'The Loop'))"
   ]
  },
  {
   "cell_type": "code",
   "execution_count": 109,
   "id": "dc4e32d3-8ece-4bcd-a37f-e43e8a030992",
   "metadata": {
    "tags": []
   },
   "outputs": [
    {
     "data": {
      "text/html": [
       "<div>\n",
       "<style scoped>\n",
       "    .dataframe tbody tr th:only-of-type {\n",
       "        vertical-align: middle;\n",
       "    }\n",
       "\n",
       "    .dataframe tbody tr th {\n",
       "        vertical-align: top;\n",
       "    }\n",
       "\n",
       "    .dataframe thead th {\n",
       "        text-align: right;\n",
       "    }\n",
       "</style>\n",
       "<table border=\"1\" class=\"dataframe\">\n",
       "  <thead>\n",
       "    <tr style=\"text-align: right;\">\n",
       "      <th></th>\n",
       "      <th>Community Area</th>\n",
       "      <th>Name</th>\n",
       "    </tr>\n",
       "  </thead>\n",
       "  <tbody>\n",
       "    <tr>\n",
       "      <th>2408</th>\n",
       "      <td>70</td>\n",
       "      <td>Ashburn</td>\n",
       "    </tr>\n",
       "    <tr>\n",
       "      <th>2409</th>\n",
       "      <td>23</td>\n",
       "      <td>Humboldt Park</td>\n",
       "    </tr>\n",
       "    <tr>\n",
       "      <th>2410</th>\n",
       "      <td>9</td>\n",
       "      <td>Edison Park</td>\n",
       "    </tr>\n",
       "    <tr>\n",
       "      <th>2411</th>\n",
       "      <td>41</td>\n",
       "      <td>Hyde Park</td>\n",
       "    </tr>\n",
       "    <tr>\n",
       "      <th>2412</th>\n",
       "      <td>66</td>\n",
       "      <td>Chicago Lawn</td>\n",
       "    </tr>\n",
       "  </tbody>\n",
       "</table>\n",
       "</div>"
      ],
      "text/plain": [
       "      Community Area           Name\n",
       "2408              70        Ashburn\n",
       "2409              23  Humboldt Park\n",
       "2410               9    Edison Park\n",
       "2411              41      Hyde Park\n",
       "2412              66   Chicago Lawn"
      ]
     },
     "execution_count": 109,
     "metadata": {},
     "output_type": "execute_result"
    }
   ],
   "source": [
    "# Check to make sure the names are accurate\n",
    "crimesCTA.loc[:, ['Community Area', 'Name']].iloc[-5:]"
   ]
  },
  {
   "cell_type": "markdown",
   "id": "8f6d9383",
   "metadata": {},
   "source": [
    "## Set graph settings"
   ]
  },
  {
   "cell_type": "code",
   "execution_count": 110,
   "id": "a1d6c2dd",
   "metadata": {},
   "outputs": [],
   "source": [
    "colors = [\"#c77464\", \"#2396be\", \"#967aa0\", \"#ffc858\", \"#d8a2e7\", \"#89c388\", \"#e6a1c6\", \"#6c6bc9\", \"#82c1c4\", \"#d98c55\"]\n",
    "\n",
    "sns.set_palette(sns.color_palette(colors))"
   ]
  },
  {
   "cell_type": "markdown",
   "id": "fbb11c9b",
   "metadata": {},
   "source": [
    "## Exploratory data analysis"
   ]
  },
  {
   "cell_type": "markdown",
   "id": "e4bd74a9",
   "metadata": {},
   "source": [
    "Put code with comments. The comments should explain the code such that it can be easily understood. You may put text *(in a markdown cell)* before a large chunk of code to explain the overall purpose of the code, if it is not intuitive. **Put the name of the person / persons who contributed to each code chunk / set of code chunks.**"
   ]
  },
  {
   "cell_type": "markdown",
   "id": "e2cc5c7f",
   "metadata": {},
   "source": [
    "### Analysis 1\n",
    "*By \\<Alyssa Shou>*"
   ]
  },
  {
   "cell_type": "markdown",
   "id": "9d42f213",
   "metadata": {},
   "source": [
    "**Graphing the number of crimes by hour as an initial starting point to determine analysis time frames**"
   ]
  },
  {
   "cell_type": "code",
   "execution_count": 111,
   "id": "4a580b5b",
   "metadata": {},
   "outputs": [
    {
     "data": {
      "image/png": "[encoded data removed]",
      "text/plain": [
       "<Figure size 1000x600 with 1 Axes>"
      ]
     },
     "metadata": {},
     "output_type": "display_data"
    }
   ],
   "source": [
    "\n",
    "# Round times down to nearest hour\n",
    "time_data['hourly_time'] = time_data['Date'].dt.floor('H').dt.time\n",
    "\n",
    "crime_counts = time_data['hourly_time'].value_counts().sort_index()\n",
    "crime_counts = crime_counts.to_frame(name = 'Count').reset_index()\n",
    "\n",
    "plt.figure(figsize=(10, 6))\n",
    "bx = sns.lineplot(x= crime_counts.index, y=crime_counts.Count, color = \"#2396be\")\n",
    "step = len(crime_counts.index) // 24 \n",
    "plt.xticks(range(0, len(crime_counts.index), step))\n",
    "plt.xlabel('Time (Hourly)', fontsize = 15, labelpad=10)\n",
    "plt.ylabel('Number of Crimes', fontsize = 15, labelpad=10)\n",
    "plt.title('Number of Crimes by Hour', fontsize = 20)\n",
    "plt.tight_layout()\n",
    "plt.show()"
   ]
  },
  {
   "cell_type": "markdown",
   "id": "1b80efcc",
   "metadata": {},
   "source": [
    "### Analysis 2\n",
    "*By \\<Name of person doing the analysis>*"
   ]
  },
  {
   "cell_type": "markdown",
   "id": "0f2266f4",
   "metadata": {},
   "source": [
    "### Analysis 3\n",
    "*By \\<Name of person doing the analysis>*"
   ]
  },
  {
   "cell_type": "markdown",
   "id": "796df2f5",
   "metadata": {},
   "source": [
    "### Analysis 4\n",
    "*By \\<Paisley Lucier>*"
   ]
  },
  {
   "cell_type": "markdown",
   "id": "c1126b65",
   "metadata": {},
   "source": [
    "#### 1st visualization"
   ]
  },
  {
   "cell_type": "code",
   "execution_count": 112,
   "id": "50da8af2",
   "metadata": {},
   "outputs": [
    {
     "data": {
      "text/html": [
       "<div>\n",
       "<style scoped>\n",
       "    .dataframe tbody tr th:only-of-type {\n",
       "        vertical-align: middle;\n",
       "    }\n",
       "\n",
       "    .dataframe tbody tr th {\n",
       "        vertical-align: top;\n",
       "    }\n",
       "\n",
       "    .dataframe thead th {\n",
       "        text-align: right;\n",
       "    }\n",
       "</style>\n",
       "<table border=\"1\" class=\"dataframe\">\n",
       "  <thead>\n",
       "    <tr style=\"text-align: right;\">\n",
       "      <th></th>\n",
       "      <th>ID</th>\n",
       "      <th>Arrest</th>\n",
       "      <th>Domestic</th>\n",
       "      <th>Beat</th>\n",
       "      <th>District</th>\n",
       "      <th>Ward</th>\n",
       "      <th>Community Area</th>\n",
       "      <th>X Coordinate</th>\n",
       "      <th>Y Coordinate</th>\n",
       "      <th>Year</th>\n",
       "      <th>Latitude</th>\n",
       "      <th>Longitude</th>\n",
       "    </tr>\n",
       "    <tr>\n",
       "      <th>Side</th>\n",
       "      <th></th>\n",
       "      <th></th>\n",
       "      <th></th>\n",
       "      <th></th>\n",
       "      <th></th>\n",
       "      <th></th>\n",
       "      <th></th>\n",
       "      <th></th>\n",
       "      <th></th>\n",
       "      <th></th>\n",
       "      <th></th>\n",
       "      <th></th>\n",
       "    </tr>\n",
       "  </thead>\n",
       "  <tbody>\n",
       "    <tr>\n",
       "      <th>Central</th>\n",
       "      <td>1.273337e+07</td>\n",
       "      <td>0.107993</td>\n",
       "      <td>0.164096</td>\n",
       "      <td>813.361489</td>\n",
       "      <td>7.901587</td>\n",
       "      <td>18.560827</td>\n",
       "      <td>38.129553</td>\n",
       "      <td>1.169315e+06</td>\n",
       "      <td>1.883294e+06</td>\n",
       "      <td>2022.0</td>\n",
       "      <td>41.835260</td>\n",
       "      <td>-87.654221</td>\n",
       "    </tr>\n",
       "    <tr>\n",
       "      <th>North</th>\n",
       "      <td>1.274061e+07</td>\n",
       "      <td>0.131305</td>\n",
       "      <td>0.166681</td>\n",
       "      <td>1798.788545</td>\n",
       "      <td>17.753468</td>\n",
       "      <td>35.142533</td>\n",
       "      <td>19.727479</td>\n",
       "      <td>1.151533e+06</td>\n",
       "      <td>1.919441e+06</td>\n",
       "      <td>2022.0</td>\n",
       "      <td>41.934816</td>\n",
       "      <td>-87.718521</td>\n",
       "    </tr>\n",
       "    <tr>\n",
       "      <th>South</th>\n",
       "      <td>1.270866e+07</td>\n",
       "      <td>0.108861</td>\n",
       "      <td>0.260033</td>\n",
       "      <td>791.395471</td>\n",
       "      <td>7.690781</td>\n",
       "      <td>14.362799</td>\n",
       "      <td>57.593862</td>\n",
       "      <td>1.178853e+06</td>\n",
       "      <td>1.846025e+06</td>\n",
       "      <td>2022.0</td>\n",
       "      <td>41.732781</td>\n",
       "      <td>-87.620367</td>\n",
       "    </tr>\n",
       "  </tbody>\n",
       "</table>\n",
       "</div>"
      ],
      "text/plain": [
       "                   ID    Arrest  Domestic         Beat   District       Ward  \\\n",
       "Side                                                                           \n",
       "Central  1.273337e+07  0.107993  0.164096   813.361489   7.901587  18.560827   \n",
       "North    1.274061e+07  0.131305  0.166681  1798.788545  17.753468  35.142533   \n",
       "South    1.270866e+07  0.108861  0.260033   791.395471   7.690781  14.362799   \n",
       "\n",
       "         Community Area  X Coordinate  Y Coordinate    Year   Latitude  \\\n",
       "Side                                                                     \n",
       "Central       38.129553  1.169315e+06  1.883294e+06  2022.0  41.835260   \n",
       "North         19.727479  1.151533e+06  1.919441e+06  2022.0  41.934816   \n",
       "South         57.593862  1.178853e+06  1.846025e+06  2022.0  41.732781   \n",
       "\n",
       "         Longitude  \n",
       "Side                \n",
       "Central -87.654221  \n",
       "North   -87.718521  \n",
       "South   -87.620367  "
      ]
     },
     "execution_count": 112,
     "metadata": {},
     "output_type": "execute_result"
    }
   ],
   "source": [
    "# Visualizing proportion of crimes resulting in arrest across side\n",
    "grouped_sides = arrest_data.groupby(['Side'])\n",
    "grouped_sides_m = grouped_sides.mean()\n",
    "grouped_sides_m"
   ]
  },
  {
   "cell_type": "code",
   "execution_count": 113,
   "id": "526c5138",
   "metadata": {},
   "outputs": [
    {
     "data": {
      "image/png": "[encoded data removed]",
      "text/plain": [
       "<Figure size 640x480 with 1 Axes>"
      ]
     },
     "metadata": {},
     "output_type": "display_data"
    }
   ],
   "source": [
    "ax = sns.barplot(data=grouped_sides_m, x=grouped_sides_m.index, y='Arrest')\n",
    "ax.set_title(\"Percentage of Arrested Observations by Side\",\n",
    "                  fontdict = {'fontsize': 20,\n",
    "                              'fontweight': 'bold',\n",
    "                              'color': '#704434'})\n",
    "plt.show()"
   ]
  },
  {
   "cell_type": "markdown",
   "id": "3e1dfe5d",
   "metadata": {},
   "source": [
    "#### 2nd visualization\n"
   ]
  },
  {
   "cell_type": "code",
   "execution_count": 114,
   "id": "c6441c07",
   "metadata": {},
   "outputs": [],
   "source": [
    "# to ensure that I am not comparing districts with almost 0 observances for a particular crime type, \n",
    "# I subset the top 12 crimes with the most overall observations"
   ]
  },
  {
   "cell_type": "markdown",
   "id": "da3f1397",
   "metadata": {},
   "source": [
    "# be sure to show where this is coming from !!"
   ]
  },
  {
   "cell_type": "code",
   "execution_count": 115,
   "id": "a4e192e1",
   "metadata": {},
   "outputs": [],
   "source": [
    "# Subset top 12 crimes\n",
    "top_12_crimes = arrest_data.loc[((arrest_data['Primary Type'] == 'THEFT') | \\\n",
    "                               (arrest_data['Primary Type'] == 'BATTERY') | \\\n",
    "                               (arrest_data['Primary Type'] == 'CRIMINAL DAMAGE') | \\\n",
    "                               (arrest_data['Primary Type'] == 'MOTOR VEHICLE THEFT') | \\\n",
    "                               (arrest_data['Primary Type'] == 'ASSAULT') | \\\n",
    "                               (arrest_data['Primary Type'] == 'DECEPTIVE PRACTICE') | \\\n",
    "                               (arrest_data['Primary Type'] == 'OTHER OFFENSE') | \\\n",
    "                               (arrest_data['Primary Type'] == 'ROBBERY') | \\\n",
    "                               (arrest_data['Primary Type'] == 'WEAPONS VIOLATION') | \\\n",
    "                               (arrest_data['Primary Type'] == 'BURGLARY') | \\\n",
    "                               (arrest_data['Primary Type'] == 'NARCOTICS') | \\\n",
    "                               (arrest_data['Primary Type'] == 'CRIMINAL TRESPASS')), :]"
   ]
  },
  {
   "cell_type": "code",
   "execution_count": 116,
   "id": "0b7aa07f",
   "metadata": {},
   "outputs": [],
   "source": [
    "# Group observations by side, get average arrest rate for each top 12 crime type by side\n",
    "grouped_side_type = top_12_crimes.groupby(['Side', 'Primary Type'])\n",
    "grouped_side_type_m = grouped_side_type.mean().loc[:, 'Arrest']\n",
    "grouped_side_type_m = grouped_side_type_m.reset_index() "
   ]
  },
  {
   "cell_type": "code",
   "execution_count": 117,
   "id": "60021e60",
   "metadata": {},
   "outputs": [
    {
     "data": {
      "image/png": "[encoded data removed]",
      "text/plain": [
       "<Figure size 640x480 with 1 Axes>"
      ]
     },
     "metadata": {},
     "output_type": "display_data"
    }
   ],
   "source": [
    "ax = sns.barplot(x='Primary Type',y='Arrest', hue='Side', data = grouped_side_type_m)\n",
    "ax.set_xticklabels(ax.get_xticklabels(),rotation=90, fontdict = {\n",
    "                              'color': '#704434'})\n",
    "ax.set_title(\"Arrest by Type of Crime (top 12 crimes)\",\n",
    "                  fontdict = {'fontsize': 20,\n",
    "                              'fontweight': 'bold',\n",
    "                              'color': '#704434'})\n",
    "ax.set_xlabel('Primary Type', fontsize=20)\n",
    "ax.set_ylabel('Arrest Proportion', fontsize=20)\n",
    "\n",
    "plt.show()"
   ]
  },
  {
   "cell_type": "markdown",
   "id": "e7977975",
   "metadata": {},
   "source": [
    "#### 3rd visualization"
   ]
  },
  {
   "cell_type": "code",
   "execution_count": 128,
   "id": "90ac31f8",
   "metadata": {},
   "outputs": [],
   "source": [
    "# Group by district\n",
    "sentiments_2022_m = sentiments_2022.groupby(['DISTRICT']).mean()\n",
    "sentiments_2022_m = sentiments_2022_m.reset_index()\n",
    "\n",
    "# Add side column\n",
    "sentiments_2022_m['Side'] = sentiments_2022_m['DISTRICT']\n",
    "sentiments_2022_m['Side'] = sentiments_2022_m['Side'].map({4: 'South', 5: 'South', 6: 'South', 7: 'South', 22: 'South', 31: 'South', \\\n",
    "                       11: \"North\", 14: 'North', 15: 'North', 16: 'North', 17: 'North', 19: 'North', 20: 'North',\\\n",
    "                       24: 'North', 25: 'North', 1: 'Central', 2: 'Central', 3: 'Central', 8: 'Central', \\\n",
    "                        9: 'Central', 10: 'Central', 12: 'Central', 13: 'Central', 18: 'Central'})"
   ]
  },
  {
   "cell_type": "code",
   "execution_count": 129,
   "id": "58cce953",
   "metadata": {},
   "outputs": [],
   "source": [
    "# Group by side\n",
    "sentiments_2022_m_side = sentiments_2022_m.groupby(['Side']).mean()\n",
    "sentiments_2022_m_side = sentiments_2022_m_side.reset_index()\n",
    "sentiments_2022_m_side.drop(columns='DISTRICT', inplace=True)"
   ]
  },
  {
   "cell_type": "code",
   "execution_count": 130,
   "id": "2ff0592f",
   "metadata": {},
   "outputs": [],
   "source": [
    "sentiments_2022_m_side_melted = pd.melt(sentiments_2022_m_side,id_vars = ['Side'],var_name = 'Survey_q',value_name = 'Score')\n"
   ]
  },
  {
   "cell_type": "code",
   "execution_count": 131,
   "id": "2324c618",
   "metadata": {},
   "outputs": [
    {
     "data": {
      "image/png": "[encoded data removed]",
      "text/plain": [
       "<Figure size 640x480 with 1 Axes>"
      ]
     },
     "metadata": {},
     "output_type": "display_data"
    }
   ],
   "source": [
    "ax = sns.barplot(data=sentiments_2022_m_side_melted, x='Survey_q', y='Score', hue='Side')\n",
    "\n",
    "ax.set_title(\"Police Sentiments Rating by Side\",\n",
    "                  fontdict = {'fontsize': 20,\n",
    "                              'fontweight': 'bold',\n",
    "                              'color': '#704434'})\n",
    "\n",
    "plt.legend(loc='lower left')\n",
    "plt.show()"
   ]
  },
  {
   "cell_type": "markdown",
   "id": "226794aa",
   "metadata": {},
   "source": [
    "#### 4th visualization"
   ]
  },
  {
   "cell_type": "code",
   "execution_count": 132,
   "id": "87f5dcc2",
   "metadata": {},
   "outputs": [
    {
     "data": {
      "text/html": [
       "<div>\n",
       "<style scoped>\n",
       "    .dataframe tbody tr th:only-of-type {\n",
       "        vertical-align: middle;\n",
       "    }\n",
       "\n",
       "    .dataframe tbody tr th {\n",
       "        vertical-align: top;\n",
       "    }\n",
       "\n",
       "    .dataframe thead th {\n",
       "        text-align: right;\n",
       "    }\n",
       "</style>\n",
       "<table border=\"1\" class=\"dataframe\">\n",
       "  <thead>\n",
       "    <tr style=\"text-align: right;\">\n",
       "      <th></th>\n",
       "      <th>SAFETY</th>\n",
       "      <th>TRUST</th>\n",
       "      <th>T_RESPECT</th>\n",
       "      <th>T_LISTEN</th>\n",
       "    </tr>\n",
       "  </thead>\n",
       "  <tbody>\n",
       "    <tr>\n",
       "      <th>SAFETY</th>\n",
       "      <td>1.000000</td>\n",
       "      <td>0.915864</td>\n",
       "      <td>0.910727</td>\n",
       "      <td>0.914462</td>\n",
       "    </tr>\n",
       "    <tr>\n",
       "      <th>TRUST</th>\n",
       "      <td>0.915864</td>\n",
       "      <td>1.000000</td>\n",
       "      <td>0.996664</td>\n",
       "      <td>0.995943</td>\n",
       "    </tr>\n",
       "    <tr>\n",
       "      <th>T_RESPECT</th>\n",
       "      <td>0.910727</td>\n",
       "      <td>0.996664</td>\n",
       "      <td>1.000000</td>\n",
       "      <td>0.985276</td>\n",
       "    </tr>\n",
       "    <tr>\n",
       "      <th>T_LISTEN</th>\n",
       "      <td>0.914462</td>\n",
       "      <td>0.995943</td>\n",
       "      <td>0.985276</td>\n",
       "      <td>1.000000</td>\n",
       "    </tr>\n",
       "  </tbody>\n",
       "</table>\n",
       "</div>"
      ],
      "text/plain": [
       "             SAFETY     TRUST  T_RESPECT  T_LISTEN\n",
       "SAFETY     1.000000  0.915864   0.910727  0.914462\n",
       "TRUST      0.915864  1.000000   0.996664  0.995943\n",
       "T_RESPECT  0.910727  0.996664   1.000000  0.985276\n",
       "T_LISTEN   0.914462  0.995943   0.985276  1.000000"
      ]
     },
     "execution_count": 132,
     "metadata": {},
     "output_type": "execute_result"
    }
   ],
   "source": [
    "sentiments_arrest_dis = sentiments_2022_m.copy()\n",
    "sentiments_arrest_dis = sentiments_arrest_dis.set_index('DISTRICT')\n",
    "grouped = pd.DataFrame(top_12_crimes.groupby(['District', 'Primary Type']).mean().loc[:, 'Arrest'])\n",
    "sentiments_arrest_dis.corr()"
   ]
  },
  {
   "cell_type": "code",
   "execution_count": 133,
   "id": "fafbd8de",
   "metadata": {},
   "outputs": [
    {
     "data": {
      "text/html": [
       "<div>\n",
       "<style scoped>\n",
       "    .dataframe tbody tr th:only-of-type {\n",
       "        vertical-align: middle;\n",
       "    }\n",
       "\n",
       "    .dataframe tbody tr th {\n",
       "        vertical-align: top;\n",
       "    }\n",
       "\n",
       "    .dataframe thead th {\n",
       "        text-align: right;\n",
       "    }\n",
       "</style>\n",
       "<table border=\"1\" class=\"dataframe\">\n",
       "  <thead>\n",
       "    <tr style=\"text-align: right;\">\n",
       "      <th></th>\n",
       "      <th>Side</th>\n",
       "      <th>avg_sent</th>\n",
       "    </tr>\n",
       "    <tr>\n",
       "      <th>DISTRICT</th>\n",
       "      <th></th>\n",
       "      <th></th>\n",
       "    </tr>\n",
       "  </thead>\n",
       "  <tbody>\n",
       "    <tr>\n",
       "      <th>1.0</th>\n",
       "      <td>Central</td>\n",
       "      <td>60.353594</td>\n",
       "    </tr>\n",
       "    <tr>\n",
       "      <th>2.0</th>\n",
       "      <td>Central</td>\n",
       "      <td>56.393281</td>\n",
       "    </tr>\n",
       "    <tr>\n",
       "      <th>3.0</th>\n",
       "      <td>Central</td>\n",
       "      <td>50.658646</td>\n",
       "    </tr>\n",
       "    <tr>\n",
       "      <th>4.0</th>\n",
       "      <td>South</td>\n",
       "      <td>52.999375</td>\n",
       "    </tr>\n",
       "    <tr>\n",
       "      <th>5.0</th>\n",
       "      <td>South</td>\n",
       "      <td>51.750729</td>\n",
       "    </tr>\n",
       "    <tr>\n",
       "      <th>6.0</th>\n",
       "      <td>South</td>\n",
       "      <td>50.812396</td>\n",
       "    </tr>\n",
       "    <tr>\n",
       "      <th>7.0</th>\n",
       "      <td>South</td>\n",
       "      <td>50.670885</td>\n",
       "    </tr>\n",
       "    <tr>\n",
       "      <th>8.0</th>\n",
       "      <td>Central</td>\n",
       "      <td>60.179896</td>\n",
       "    </tr>\n",
       "    <tr>\n",
       "      <th>9.0</th>\n",
       "      <td>Central</td>\n",
       "      <td>57.743646</td>\n",
       "    </tr>\n",
       "    <tr>\n",
       "      <th>10.0</th>\n",
       "      <td>Central</td>\n",
       "      <td>53.744583</td>\n",
       "    </tr>\n",
       "    <tr>\n",
       "      <th>11.0</th>\n",
       "      <td>North</td>\n",
       "      <td>51.363542</td>\n",
       "    </tr>\n",
       "    <tr>\n",
       "      <th>12.0</th>\n",
       "      <td>Central</td>\n",
       "      <td>57.304740</td>\n",
       "    </tr>\n",
       "    <tr>\n",
       "      <th>14.0</th>\n",
       "      <td>North</td>\n",
       "      <td>59.580156</td>\n",
       "    </tr>\n",
       "    <tr>\n",
       "      <th>15.0</th>\n",
       "      <td>North</td>\n",
       "      <td>52.271458</td>\n",
       "    </tr>\n",
       "    <tr>\n",
       "      <th>16.0</th>\n",
       "      <td>North</td>\n",
       "      <td>68.140333</td>\n",
       "    </tr>\n",
       "    <tr>\n",
       "      <th>17.0</th>\n",
       "      <td>North</td>\n",
       "      <td>62.995573</td>\n",
       "    </tr>\n",
       "    <tr>\n",
       "      <th>18.0</th>\n",
       "      <td>Central</td>\n",
       "      <td>64.994583</td>\n",
       "    </tr>\n",
       "    <tr>\n",
       "      <th>19.0</th>\n",
       "      <td>North</td>\n",
       "      <td>62.284323</td>\n",
       "    </tr>\n",
       "    <tr>\n",
       "      <th>20.0</th>\n",
       "      <td>North</td>\n",
       "      <td>59.938229</td>\n",
       "    </tr>\n",
       "    <tr>\n",
       "      <th>22.0</th>\n",
       "      <td>South</td>\n",
       "      <td>59.351146</td>\n",
       "    </tr>\n",
       "    <tr>\n",
       "      <th>24.0</th>\n",
       "      <td>North</td>\n",
       "      <td>59.805990</td>\n",
       "    </tr>\n",
       "    <tr>\n",
       "      <th>25.0</th>\n",
       "      <td>North</td>\n",
       "      <td>58.433021</td>\n",
       "    </tr>\n",
       "  </tbody>\n",
       "</table>\n",
       "</div>"
      ],
      "text/plain": [
       "             Side   avg_sent\n",
       "DISTRICT                    \n",
       "1.0       Central  60.353594\n",
       "2.0       Central  56.393281\n",
       "3.0       Central  50.658646\n",
       "4.0         South  52.999375\n",
       "5.0         South  51.750729\n",
       "6.0         South  50.812396\n",
       "7.0         South  50.670885\n",
       "8.0       Central  60.179896\n",
       "9.0       Central  57.743646\n",
       "10.0      Central  53.744583\n",
       "11.0        North  51.363542\n",
       "12.0      Central  57.304740\n",
       "14.0        North  59.580156\n",
       "15.0        North  52.271458\n",
       "16.0        North  68.140333\n",
       "17.0        North  62.995573\n",
       "18.0      Central  64.994583\n",
       "19.0        North  62.284323\n",
       "20.0        North  59.938229\n",
       "22.0        South  59.351146\n",
       "24.0        North  59.805990\n",
       "25.0        North  58.433021"
      ]
     },
     "execution_count": 133,
     "metadata": {},
     "output_type": "execute_result"
    }
   ],
   "source": [
    "# since these are highly correlated, I will aggregate to one score: average sentiment rating\n",
    "sentiments_arrest_dis['avg_sent'] = (sentiments_arrest_dis['SAFETY'] + sentiments_arrest_dis['TRUST'] + \\\n",
    "                                    sentiments_arrest_dis['T_RESPECT'] + sentiments_arrest_dis['T_LISTEN']) / 4\n",
    "sentiments_arrest_dis = sentiments_arrest_dis.drop(columns=['SAFETY', 'TRUST', 'T_RESPECT', 'T_LISTEN'])\n",
    "sentiments_arrest_dis"
   ]
  },
  {
   "cell_type": "code",
   "execution_count": 136,
   "id": "67c7f32e",
   "metadata": {},
   "outputs": [
    {
     "data": {
      "image/png": "[encoded data removed]",
      "text/plain": [
       "<Figure size 1050x1400 with 12 Axes>"
      ]
     },
     "metadata": {},
     "output_type": "display_data"
    }
   ],
   "source": [
    "grouped = pd.DataFrame(top_12_crimes.groupby(['District', 'Primary Type']).mean().loc[:, 'Arrest'])\n",
    "\n",
    "def merge_sentiments(x):\n",
    "    x = pd.merge(left=x, right=sentiments_arrest_dis.reset_index(), left_on='District', right_on='DISTRICT')\n",
    "    return x\n",
    "\n",
    "\n",
    "grouped_new = grouped.reset_index().groupby('Primary Type').apply(merge_sentiments)\n",
    "a = sns.FacetGrid(grouped_new, \\\n",
    "                  col = 'Primary Type',col_wrap=3,height=3.5,aspect = 1)\n",
    "a.map_dataframe(sns.regplot,x=\"avg_sent\", y=\"Arrest\")\n",
    "plt.show()"
   ]
  },
  {
   "cell_type": "code",
   "execution_count": 137,
   "id": "0d6c6973",
   "metadata": {},
   "outputs": [
    {
     "data": {
      "image/png": "[encoded data removed]",
      "text/plain": [
       "<Figure size 1050x350 with 2 Axes>"
      ]
     },
     "metadata": {},
     "output_type": "display_data"
    }
   ],
   "source": [
    "# binning the two types of crime with the most visible associations and graphing those for a closer look\n",
    "grouped_new['Primary Type Binned'] = \"None\"\n",
    "def bin_it(x):\n",
    "    if (x['Primary Type'] == 'ASSAULT' or x['Primary Type'] == 'BATTERY'):\n",
    "        x['Primary Type Binned'] = \"Assault + Battery\"\n",
    "    elif (x['Primary Type'] == 'BURGLARY' or x['Primary Type'] == 'ROBBERY' or x['Primary Type'] == 'THEFT'):\n",
    "        x['Primary Type Binned'] = \"Burglary + Robbery + Theft\"\n",
    "    else:\n",
    "        x['Primary Type Binned'] = x['Primary Type']\n",
    "    return x\n",
    "    \n",
    "grouped_new = grouped_new.apply(bin_it, axis=1)\n",
    "grouped_new = grouped_new.drop(columns = 'Primary Type')\n",
    "grouped_new.reset_index()\n",
    "grouped_new.groupby('Primary Type Binned')\n",
    "\n",
    "a = sns.FacetGrid(grouped_new.loc[(grouped_new['Primary Type Binned']== 'Assault + Battery') \\\n",
    "                                  | (grouped_new['Primary Type Binned'] == 'Burglary + Robbery + Theft')], \\\n",
    "                  col = 'Primary Type Binned',col_wrap=3,height=3.5,aspect = 1)\n",
    "a.map_dataframe(sns.regplot,x=\"avg_sent\", y=\"Arrest\")\n",
    "plt.show()"
   ]
  },
  {
   "cell_type": "markdown",
   "id": "18ef9571",
   "metadata": {},
   "source": [
    "#### 5th Visualization"
   ]
  },
  {
   "cell_type": "code",
   "execution_count": 138,
   "id": "282af28a",
   "metadata": {},
   "outputs": [
    {
     "data": {
      "text/html": [
       "<div>\n",
       "<style scoped>\n",
       "    .dataframe tbody tr th:only-of-type {\n",
       "        vertical-align: middle;\n",
       "    }\n",
       "\n",
       "    .dataframe tbody tr th {\n",
       "        vertical-align: top;\n",
       "    }\n",
       "\n",
       "    .dataframe thead th {\n",
       "        text-align: right;\n",
       "    }\n",
       "</style>\n",
       "<table border=\"1\" class=\"dataframe\">\n",
       "  <thead>\n",
       "    <tr style=\"text-align: right;\">\n",
       "      <th></th>\n",
       "      <th>District of Max Arrest Proportion</th>\n",
       "      <th>District of Min Arrest Proportion</th>\n",
       "      <th>Difference</th>\n",
       "    </tr>\n",
       "    <tr>\n",
       "      <th>Primary Type</th>\n",
       "      <th></th>\n",
       "      <th></th>\n",
       "      <th></th>\n",
       "    </tr>\n",
       "  </thead>\n",
       "  <tbody>\n",
       "    <tr>\n",
       "      <th>WEAPONS VIOLATION</th>\n",
       "      <td>18.0</td>\n",
       "      <td>17.0</td>\n",
       "      <td>0.516396</td>\n",
       "    </tr>\n",
       "    <tr>\n",
       "      <th>CRIMINAL TRESPASS</th>\n",
       "      <td>16.0</td>\n",
       "      <td>22.0</td>\n",
       "      <td>0.449882</td>\n",
       "    </tr>\n",
       "    <tr>\n",
       "      <th>OTHER OFFENSE</th>\n",
       "      <td>14.0</td>\n",
       "      <td>3.0</td>\n",
       "      <td>0.272351</td>\n",
       "    </tr>\n",
       "    <tr>\n",
       "      <th>ROBBERY</th>\n",
       "      <td>16.0</td>\n",
       "      <td>5.0</td>\n",
       "      <td>0.134063</td>\n",
       "    </tr>\n",
       "    <tr>\n",
       "      <th>NARCOTICS</th>\n",
       "      <td>19.0</td>\n",
       "      <td>6.0</td>\n",
       "      <td>0.116667</td>\n",
       "    </tr>\n",
       "    <tr>\n",
       "      <th>ASSAULT</th>\n",
       "      <td>1.0</td>\n",
       "      <td>12.0</td>\n",
       "      <td>0.085086</td>\n",
       "    </tr>\n",
       "    <tr>\n",
       "      <th>BURGLARY</th>\n",
       "      <td>18.0</td>\n",
       "      <td>4.0</td>\n",
       "      <td>0.083151</td>\n",
       "    </tr>\n",
       "    <tr>\n",
       "      <th>BATTERY</th>\n",
       "      <td>1.0</td>\n",
       "      <td>7.0</td>\n",
       "      <td>0.078671</td>\n",
       "    </tr>\n",
       "    <tr>\n",
       "      <th>THEFT</th>\n",
       "      <td>1.0</td>\n",
       "      <td>7.0</td>\n",
       "      <td>0.072987</td>\n",
       "    </tr>\n",
       "    <tr>\n",
       "      <th>CRIMINAL DAMAGE</th>\n",
       "      <td>16.0</td>\n",
       "      <td>2.0</td>\n",
       "      <td>0.036573</td>\n",
       "    </tr>\n",
       "    <tr>\n",
       "      <th>DECEPTIVE PRACTICE</th>\n",
       "      <td>22.0</td>\n",
       "      <td>25.0</td>\n",
       "      <td>0.028950</td>\n",
       "    </tr>\n",
       "    <tr>\n",
       "      <th>MOTOR VEHICLE THEFT</th>\n",
       "      <td>20.0</td>\n",
       "      <td>9.0</td>\n",
       "      <td>0.028729</td>\n",
       "    </tr>\n",
       "  </tbody>\n",
       "</table>\n",
       "</div>"
      ],
      "text/plain": [
       "                     District of Max Arrest Proportion  \\\n",
       "Primary Type                                             \n",
       "WEAPONS VIOLATION                                 18.0   \n",
       "CRIMINAL TRESPASS                                 16.0   \n",
       "OTHER OFFENSE                                     14.0   \n",
       "ROBBERY                                           16.0   \n",
       "NARCOTICS                                         19.0   \n",
       "ASSAULT                                            1.0   \n",
       "BURGLARY                                          18.0   \n",
       "BATTERY                                            1.0   \n",
       "THEFT                                              1.0   \n",
       "CRIMINAL DAMAGE                                   16.0   \n",
       "DECEPTIVE PRACTICE                                22.0   \n",
       "MOTOR VEHICLE THEFT                               20.0   \n",
       "\n",
       "                     District of Min Arrest Proportion  Difference  \n",
       "Primary Type                                                        \n",
       "WEAPONS VIOLATION                                 17.0    0.516396  \n",
       "CRIMINAL TRESPASS                                 22.0    0.449882  \n",
       "OTHER OFFENSE                                      3.0    0.272351  \n",
       "ROBBERY                                            5.0    0.134063  \n",
       "NARCOTICS                                          6.0    0.116667  \n",
       "ASSAULT                                           12.0    0.085086  \n",
       "BURGLARY                                           4.0    0.083151  \n",
       "BATTERY                                            7.0    0.078671  \n",
       "THEFT                                              7.0    0.072987  \n",
       "CRIMINAL DAMAGE                                    2.0    0.036573  \n",
       "DECEPTIVE PRACTICE                                25.0    0.028950  \n",
       "MOTOR VEHICLE THEFT                                9.0    0.028729  "
      ]
     },
     "execution_count": 138,
     "metadata": {},
     "output_type": "execute_result"
    }
   ],
   "source": [
    "grouped = pd.DataFrame(top_12_crimes.groupby(['Primary Type', 'District']).mean().loc[:, 'Arrest'])\n",
    "grouped_reset = grouped.reset_index()\n",
    "\n",
    "disparity_df = np.ones([grouped_reset['Primary Type'].nunique(), 4])\n",
    "disparity_df = pd.DataFrame(disparity_df, columns=['Primary Type', 'District of Max Arrest Proportion', \\\n",
    "                                                   'District of Min Arrest Proportion', 'Difference'])\n",
    "disparity_df['Primary Type'] = grouped_reset['Primary Type'].value_counts().index\n",
    "disparity_df = disparity_df.set_index('Primary Type')\n",
    "\n",
    "def get_disparity(x):\n",
    "    maxx = x.Arrest.max()\n",
    "    minn = x.Arrest.min()\n",
    "    disparity_df.loc[x.loc[x['District'] == 1, 'Primary Type'], 'District of Max Arrest Proportion'] = x.loc[x.Arrest.idxmax(), 'District']\n",
    "    disparity_df.loc[x.loc[x['District'] == 1, 'Primary Type'], 'District of Min Arrest Proportion'] = x.loc[x.Arrest.idxmin(), 'District']\n",
    "    disparity_df.loc[x.loc[x['District'] == 1, 'Primary Type'], 'Difference'] = maxx - minn\n",
    "    \n",
    "grouped_reset.groupby('Primary Type').apply(get_disparity)\n",
    "\n",
    "disparity_df.sort_values(by = 'Difference', ascending = False)"
   ]
  },
  {
   "cell_type": "markdown",
   "id": "acab331a",
   "metadata": {},
   "source": [
    "## Other sections"
   ]
  },
  {
   "cell_type": "markdown",
   "id": "ae5ec4c9",
   "metadata": {},
   "source": [
    "Put code with comments. The comments should explain the code such that it can be easily understood. You may put text *(in a markdown cell)* before a large chunk of code to explain the overall purpose of the code, if it is not intuitive. **Put the name of the person / persons who contributed to each code chunk / set of code chunks.**\n",
    "\n",
    "Put each model in a section of its name and mention the name of the team-member tuning the model. Below is an example:"
   ]
  },
  {
   "cell_type": "markdown",
   "id": "62a185cb",
   "metadata": {},
   "source": [
    "## Conclusions and Recommendations to stakeholder(s)\n",
    "\n",
    "You may or may not have code to put in this section. Delete this section if it is irrelevant."
   ]
  }
 ],
 "metadata": {
  "kernelspec": {
   "display_name": "Python 3 (ipykernel)",
   "language": "python",
   "name": "python3"
  },
  "language_info": {
   "codemirror_mode": {
    "name": "ipython",
    "version": 3
   },
   "file_extension": ".py",
   "mimetype": "text/x-python",
   "name": "python",
   "nbconvert_exporter": "python",
   "pygments_lexer": "ipython3",
   "version": "3.9.13"
  }
 },
 "nbformat": 4,
 "nbformat_minor": 5
}

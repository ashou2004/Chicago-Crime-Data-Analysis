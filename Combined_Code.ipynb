{
 "cells": [
  {
   "cell_type": "raw",
   "id": "33dd6c4c",
   "metadata": {},
   "source": [
    "---\n",
    "title: \"Project Code\"\n",
    "subtitle: Team name\n",
    "author: Author 1, Author 2, Author 3, and Author 4 \n",
    "date: 12/04/2023\n",
    "number-sections: true\n",
    "abstract: _This file contains the code for the project on <>, as part of the STAT303-1 course in Fall 2023_.\n",
    "format: \n",
    "  html:\n",
    "    toc: true\n",
    "    toc-title: Contents\n",
    "    self-contained: true\n",
    "    font-size: 100%\n",
    "    toc-depth: 4\n",
    "    mainfont: serif\n",
    "jupyter: python3\n",
    "---"
   ]
  },
  {
   "cell_type": "code",
   "execution_count": 11,
   "id": "443f38bb",
   "metadata": {},
   "outputs": [],
   "source": [
    "import pandas as pd\n",
    "import numpy as np\n",
    "import datetime as dt\n",
    "import matplotlib.pyplot as plt\n",
    "import seaborn as sns\n",
    "import warnings\n",
    "import plotly.express as px\n"
   ]
  },
  {
   "cell_type": "markdown",
   "id": "fe7ea9bb",
   "metadata": {},
   "source": [
    "## Data quality check / cleaning / preparation \n",
    "\n",
    "Put code with comments. The comments should explain the code such that it can be easily understood. You may put text *(in a markdown cell)* before a large chunk of code to explain the overall purpose of the code, if it is not intuitive. **Put the name of the person / persons who contributed to each code chunk / set of code chunks.** An example is given below."
   ]
  },
  {
   "cell_type": "code",
   "execution_count": 29,
   "id": "42cce32c",
   "metadata": {},
   "outputs": [
    {
     "data": {
      "text/plain": [
       "(239043, 22)"
      ]
     },
     "execution_count": 29,
     "metadata": {},
     "output_type": "execute_result"
    }
   ],
   "source": [
    "raw_crime_data = pd.read_csv(\"crimes_-_2022.csv\")\n",
    "raw_crime_data.shape\n"
   ]
  },
  {
   "cell_type": "code",
   "execution_count": 30,
   "id": "99594559",
   "metadata": {},
   "outputs": [
    {
     "data": {
      "text/plain": [
       "ID                         0\n",
       "Case Number                0\n",
       "Date                       0\n",
       "Block                      0\n",
       "IUCR                       0\n",
       "Primary Type               0\n",
       "Description                0\n",
       "Location Description     881\n",
       "Arrest                     0\n",
       "Domestic                   0\n",
       "Beat                       0\n",
       "District                   0\n",
       "Ward                      10\n",
       "Community Area             0\n",
       "FBI Code                   0\n",
       "X Coordinate            4107\n",
       "Y Coordinate            4107\n",
       "Year                       0\n",
       "Updated On                 0\n",
       "Latitude                4107\n",
       "Longitude               4107\n",
       "Location                4107\n",
       "dtype: int64"
      ]
     },
     "execution_count": 30,
     "metadata": {},
     "output_type": "execute_result"
    }
   ],
   "source": [
    "raw_crime_data.isnull().sum()"
   ]
  },
  {
   "cell_type": "markdown",
   "id": "371a5a4a",
   "metadata": {},
   "source": [
    "### Full data preparation\n",
    "*By Alyssa Shou*"
   ]
  },
  {
   "cell_type": "code",
   "execution_count": 32,
   "id": "85aac0f7",
   "metadata": {},
   "outputs": [
    {
     "data": {
      "text/plain": [
       "dtype('O')"
      ]
     },
     "execution_count": 32,
     "metadata": {},
     "output_type": "execute_result"
    }
   ],
   "source": [
    "# convert the Date column to datetime object\n",
    "raw_crime_data.Date.dtypes"
   ]
  },
  {
   "cell_type": "code",
   "execution_count": 33,
   "id": "25ddf4d3",
   "metadata": {},
   "outputs": [
    {
     "data": {
      "text/plain": [
       "dtype('<M8[ns]')"
      ]
     },
     "execution_count": 33,
     "metadata": {},
     "output_type": "execute_result"
    }
   ],
   "source": [
    "# converting the date column to datetime objects #\n",
    "raw_crime_data['Date'] = raw_crime_data['Date'].apply(pd.to_datetime)\n",
    "type(raw_crime_data.Date[0])"
   ]
  },
  {
   "cell_type": "markdown",
   "id": "424479b5",
   "metadata": {},
   "source": [
    "### Data preparation\n",
    "*By Alyssa Shou*\n",
    "\n",
    "I had to drop the NA values for Location Description because the location of the crimes is absolutely necessary for my analysis."
   ]
  },
  {
   "cell_type": "code",
   "execution_count": 37,
   "id": "e67313d7",
   "metadata": {},
   "outputs": [
    {
     "data": {
      "text/plain": [
       "0.0036855293817430338"
      ]
     },
     "execution_count": 37,
     "metadata": {},
     "output_type": "execute_result"
    }
   ],
   "source": [
    "# Dropping a very small percentage of the data so general trends should not change\n",
    "881/239043"
   ]
  },
  {
   "cell_type": "code",
   "execution_count": null,
   "id": "6f6606f1",
   "metadata": {},
   "outputs": [],
   "source": [
    "crimes_cleaned = raw_crime_data.dropna(subset = ['Location Description'])\n",
    "crimes_cleaned.shape"
   ]
  },
  {
   "cell_type": "markdown",
   "id": "6006d7d9",
   "metadata": {},
   "source": [
    "### Theft data preparation\n",
    "*By Grace Chang*\n",
    "\n",
    "The following data preparation steps served to subset theft data and subsequently merge it with community area data in order to run further analyses on theft occurrence across community areas.\n",
    "\n",
    "1. Since the community areas in the original dataset are labeled by their numeric code, I merged it with another dataset to pair these codes with their corresponding community names. \n",
    "\n",
    "2. In the original dataset, numeric codes needed to be converted to double digits so that the merge could take place. All observations of \"The Loop\" were also cleaned so that their format was consistent with the rest of the community area names. "
   ]
  },
  {
   "cell_type": "code",
   "execution_count": 54,
   "id": "56bcc25e",
   "metadata": {},
   "outputs": [],
   "source": [
    "theft_data = raw_crime_data.loc[(raw_crime_data['Primary Type'] == 'THEFT'), :]"
   ]
  },
  {
   "cell_type": "code",
   "execution_count": 55,
   "id": "41a47b8b",
   "metadata": {},
   "outputs": [
    {
     "data": {
      "text/html": [
       "<div>\n",
       "<style scoped>\n",
       "    .dataframe tbody tr th:only-of-type {\n",
       "        vertical-align: middle;\n",
       "    }\n",
       "\n",
       "    .dataframe tbody tr th {\n",
       "        vertical-align: top;\n",
       "    }\n",
       "\n",
       "    .dataframe thead th {\n",
       "        text-align: right;\n",
       "    }\n",
       "</style>\n",
       "<table border=\"1\" class=\"dataframe\">\n",
       "  <thead>\n",
       "    <tr style=\"text-align: right;\">\n",
       "      <th></th>\n",
       "      <th>No.</th>\n",
       "      <th>Community Name</th>\n",
       "      <th>Population</th>\n",
       "      <th>Area (sqmi)</th>\n",
       "      <th>Area (sqkm)</th>\n",
       "      <th>Density (sqmi)</th>\n",
       "      <th>Density (sqkm)</th>\n",
       "    </tr>\n",
       "  </thead>\n",
       "  <tbody>\n",
       "    <tr>\n",
       "      <th>0</th>\n",
       "      <td>01</td>\n",
       "      <td>Rogers Park</td>\n",
       "      <td>55628</td>\n",
       "      <td>1.84</td>\n",
       "      <td>4.77</td>\n",
       "      <td>30232.61</td>\n",
       "      <td>11672.81</td>\n",
       "    </tr>\n",
       "    <tr>\n",
       "      <th>1</th>\n",
       "      <td>02</td>\n",
       "      <td>West Ridge</td>\n",
       "      <td>77122</td>\n",
       "      <td>3.53</td>\n",
       "      <td>9.14</td>\n",
       "      <td>21847.59</td>\n",
       "      <td>8435.36</td>\n",
       "    </tr>\n",
       "    <tr>\n",
       "      <th>2</th>\n",
       "      <td>03</td>\n",
       "      <td>Uptown</td>\n",
       "      <td>57182</td>\n",
       "      <td>2.32</td>\n",
       "      <td>6.01</td>\n",
       "      <td>24647.41</td>\n",
       "      <td>9516.37</td>\n",
       "    </tr>\n",
       "    <tr>\n",
       "      <th>3</th>\n",
       "      <td>04</td>\n",
       "      <td>Lincoln Square</td>\n",
       "      <td>40494</td>\n",
       "      <td>2.56</td>\n",
       "      <td>6.63</td>\n",
       "      <td>15817.97</td>\n",
       "      <td>6107.32</td>\n",
       "    </tr>\n",
       "    <tr>\n",
       "      <th>4</th>\n",
       "      <td>05</td>\n",
       "      <td>North Center</td>\n",
       "      <td>35114</td>\n",
       "      <td>2.05</td>\n",
       "      <td>5.31</td>\n",
       "      <td>17128.78</td>\n",
       "      <td>6613.42</td>\n",
       "    </tr>\n",
       "  </tbody>\n",
       "</table>\n",
       "</div>"
      ],
      "text/plain": [
       "  No.  Community Name  Population  Area (sqmi)  Area (sqkm)  Density (sqmi)  \\\n",
       "0  01     Rogers Park       55628         1.84         4.77        30232.61   \n",
       "1  02      West Ridge       77122         3.53         9.14        21847.59   \n",
       "2  03          Uptown       57182         2.32         6.01        24647.41   \n",
       "3  04  Lincoln Square       40494         2.56         6.63        15817.97   \n",
       "4  05    North Center       35114         2.05         5.31        17128.78   \n",
       "\n",
       "   Density (sqkm)  \n",
       "0        11672.81  \n",
       "1         8435.36  \n",
       "2         9516.37  \n",
       "3         6107.32  \n",
       "4         6613.42  "
      ]
     },
     "execution_count": 55,
     "metadata": {},
     "output_type": "execute_result"
    }
   ],
   "source": [
    "community_areas = pd.read_html('https://en.wikipedia.org/wiki/Community_areas_in_Chicago', match = 'Chicago community areas by number, population, and area')\n",
    "community_areas = community_areas[0]\n",
    "community_areas.columns = [col[0] for col in community_areas.columns]\n",
    "community_areas.columns = [\"No.\", \"Community Name\", \"Population\", \"Area (sqmi)\", \"Area (sqkm)\", \"Density (sqmi)\", \"Density (sqkm)\"]\n",
    "community_areas.head() # Formatting the Community Areas dataset to prepare it for merging"
   ]
  },
  {
   "cell_type": "code",
   "execution_count": 56,
   "id": "62c3117e",
   "metadata": {},
   "outputs": [
    {
     "name": "stderr",
     "output_type": "stream",
     "text": [
      "/var/folders/48/ty4j8spn07xb768b2wg2yxnm0000gn/T/ipykernel_57647/301742334.py:1: SettingWithCopyWarning: \n",
      "A value is trying to be set on a copy of a slice from a DataFrame.\n",
      "Try using .loc[row_indexer,col_indexer] = value instead\n",
      "\n",
      "See the caveats in the documentation: https://pandas.pydata.org/pandas-docs/stable/user_guide/indexing.html#returning-a-view-versus-a-copy\n",
      "  theft_data.loc[:,'Community Area'] = theft_data['Community Area'].apply(lambda x: f'{int(x):02d}' if isinstance(x, (int, str)) and str(x).isdigit() else x)\n"
     ]
    },
    {
     "data": {
      "text/plain": [
       "08    4251\n",
       "32    3464\n",
       "28    3373\n",
       "24    2681\n",
       "06    2268\n",
       "25    1823\n",
       "Name: Community Area, dtype: int64"
      ]
     },
     "execution_count": 56,
     "metadata": {},
     "output_type": "execute_result"
    }
   ],
   "source": [
    "theft_data.loc[:,'Community Area'] = theft_data['Community Area'].apply(lambda x: f'{int(x):02d}' if isinstance(x, (int, str)) and str(x).isdigit() else x)\n",
    "theft_data['Community Area'].value_counts().head(6) # Checking that the single digit codes were indeed converted to double digit format"
   ]
  },
  {
   "cell_type": "code",
   "execution_count": 51,
   "id": "9996248d",
   "metadata": {},
   "outputs": [
    {
     "name": "stderr",
     "output_type": "stream",
     "text": [
      "/var/folders/48/ty4j8spn07xb768b2wg2yxnm0000gn/T/ipykernel_57647/166830729.py:1: SettingWithCopyWarning: \n",
      "A value is trying to be set on a copy of a slice from a DataFrame.\n",
      "Try using .loc[row_indexer,col_indexer] = value instead\n",
      "\n",
      "See the caveats in the documentation: https://pandas.pydata.org/pandas-docs/stable/user_guide/indexing.html#returning-a-view-versus-a-copy\n",
      "  theft_data.loc[:,'Community Area'] = theft_data['Community Area'].astype(str)\n"
     ]
    },
    {
     "data": {
      "text/html": [
       "<div>\n",
       "<style scoped>\n",
       "    .dataframe tbody tr th:only-of-type {\n",
       "        vertical-align: middle;\n",
       "    }\n",
       "\n",
       "    .dataframe tbody tr th {\n",
       "        vertical-align: top;\n",
       "    }\n",
       "\n",
       "    .dataframe thead th {\n",
       "        text-align: right;\n",
       "    }\n",
       "</style>\n",
       "<table border=\"1\" class=\"dataframe\">\n",
       "  <thead>\n",
       "    <tr style=\"text-align: right;\">\n",
       "      <th></th>\n",
       "      <th>ID</th>\n",
       "      <th>Case Number</th>\n",
       "      <th>Date</th>\n",
       "      <th>Block</th>\n",
       "      <th>IUCR</th>\n",
       "      <th>Primary Type</th>\n",
       "      <th>Description</th>\n",
       "      <th>Location Description</th>\n",
       "      <th>Arrest</th>\n",
       "      <th>Domestic</th>\n",
       "      <th>...</th>\n",
       "      <th>Latitude</th>\n",
       "      <th>Longitude</th>\n",
       "      <th>Location</th>\n",
       "      <th>No.</th>\n",
       "      <th>Community Name</th>\n",
       "      <th>Population</th>\n",
       "      <th>Area (sqmi)</th>\n",
       "      <th>Area (sqkm)</th>\n",
       "      <th>Density (sqmi)</th>\n",
       "      <th>Density (sqkm)</th>\n",
       "    </tr>\n",
       "  </thead>\n",
       "  <tbody>\n",
       "    <tr>\n",
       "      <th>0</th>\n",
       "      <td>13209277</td>\n",
       "      <td>JG422539</td>\n",
       "      <td>2022-08-15 09:00:00</td>\n",
       "      <td>0000X W JACKSON BLVD</td>\n",
       "      <td>0810</td>\n",
       "      <td>THEFT</td>\n",
       "      <td>OVER $500</td>\n",
       "      <td>COMMERCIAL / BUSINESS OFFICE</td>\n",
       "      <td>False</td>\n",
       "      <td>False</td>\n",
       "      <td>...</td>\n",
       "      <td>NaN</td>\n",
       "      <td>NaN</td>\n",
       "      <td>NaN</td>\n",
       "      <td>32</td>\n",
       "      <td>The Loop</td>\n",
       "      <td>42298</td>\n",
       "      <td>1.65</td>\n",
       "      <td>4.27</td>\n",
       "      <td>25635.15</td>\n",
       "      <td>9897.73</td>\n",
       "    </tr>\n",
       "    <tr>\n",
       "      <th>1</th>\n",
       "      <td>12678035</td>\n",
       "      <td>JF216671</td>\n",
       "      <td>2022-04-22 23:30:00</td>\n",
       "      <td>044XX N BROADWAY</td>\n",
       "      <td>0810</td>\n",
       "      <td>THEFT</td>\n",
       "      <td>OVER $500</td>\n",
       "      <td>APARTMENT</td>\n",
       "      <td>True</td>\n",
       "      <td>True</td>\n",
       "      <td>...</td>\n",
       "      <td>41.962247</td>\n",
       "      <td>-87.655460</td>\n",
       "      <td>(41.962247182, -87.6554598)</td>\n",
       "      <td>03</td>\n",
       "      <td>Uptown</td>\n",
       "      <td>57182</td>\n",
       "      <td>2.32</td>\n",
       "      <td>6.01</td>\n",
       "      <td>24647.41</td>\n",
       "      <td>9516.37</td>\n",
       "    </tr>\n",
       "    <tr>\n",
       "      <th>2</th>\n",
       "      <td>12713141</td>\n",
       "      <td>JF259485</td>\n",
       "      <td>2022-05-29 00:00:00</td>\n",
       "      <td>014XX S MUSEUM CAMPUS DR</td>\n",
       "      <td>0870</td>\n",
       "      <td>THEFT</td>\n",
       "      <td>POCKET-PICKING</td>\n",
       "      <td>SPORTS ARENA / STADIUM</td>\n",
       "      <td>False</td>\n",
       "      <td>False</td>\n",
       "      <td>...</td>\n",
       "      <td>NaN</td>\n",
       "      <td>NaN</td>\n",
       "      <td>NaN</td>\n",
       "      <td>33</td>\n",
       "      <td>Near South Side</td>\n",
       "      <td>28795</td>\n",
       "      <td>1.78</td>\n",
       "      <td>4.61</td>\n",
       "      <td>16176.97</td>\n",
       "      <td>6245.93</td>\n",
       "    </tr>\n",
       "    <tr>\n",
       "      <th>3</th>\n",
       "      <td>12938108</td>\n",
       "      <td>JF528867</td>\n",
       "      <td>2022-12-29 15:00:00</td>\n",
       "      <td>068XX S PULASKI RD</td>\n",
       "      <td>0810</td>\n",
       "      <td>THEFT</td>\n",
       "      <td>OVER $500</td>\n",
       "      <td>PARKING LOT / GARAGE (NON RESIDENTIAL)</td>\n",
       "      <td>False</td>\n",
       "      <td>False</td>\n",
       "      <td>...</td>\n",
       "      <td>41.769329</td>\n",
       "      <td>-87.722522</td>\n",
       "      <td>(41.769329199, -87.722521726)</td>\n",
       "      <td>65</td>\n",
       "      <td>West Lawn</td>\n",
       "      <td>33662</td>\n",
       "      <td>2.95</td>\n",
       "      <td>7.64</td>\n",
       "      <td>11410.85</td>\n",
       "      <td>4405.73</td>\n",
       "    </tr>\n",
       "    <tr>\n",
       "      <th>4</th>\n",
       "      <td>12628296</td>\n",
       "      <td>JF156473</td>\n",
       "      <td>2022-02-05 16:02:00</td>\n",
       "      <td>019XX S Drake Ave</td>\n",
       "      <td>0820</td>\n",
       "      <td>THEFT</td>\n",
       "      <td>$500 AND UNDER</td>\n",
       "      <td>RESIDENCE</td>\n",
       "      <td>False</td>\n",
       "      <td>False</td>\n",
       "      <td>...</td>\n",
       "      <td>NaN</td>\n",
       "      <td>NaN</td>\n",
       "      <td>NaN</td>\n",
       "      <td>29</td>\n",
       "      <td>North Lawndale</td>\n",
       "      <td>34794</td>\n",
       "      <td>3.21</td>\n",
       "      <td>8.31</td>\n",
       "      <td>10839.25</td>\n",
       "      <td>4185.04</td>\n",
       "    </tr>\n",
       "  </tbody>\n",
       "</table>\n",
       "<p>5 rows × 29 columns</p>\n",
       "</div>"
      ],
      "text/plain": [
       "         ID Case Number                Date                     Block  IUCR  \\\n",
       "0  13209277    JG422539 2022-08-15 09:00:00      0000X W JACKSON BLVD  0810   \n",
       "1  12678035    JF216671 2022-04-22 23:30:00          044XX N BROADWAY  0810   \n",
       "2  12713141    JF259485 2022-05-29 00:00:00  014XX S MUSEUM CAMPUS DR  0870   \n",
       "3  12938108    JF528867 2022-12-29 15:00:00        068XX S PULASKI RD  0810   \n",
       "4  12628296    JF156473 2022-02-05 16:02:00         019XX S Drake Ave  0820   \n",
       "\n",
       "  Primary Type     Description                    Location Description  \\\n",
       "0        THEFT       OVER $500            COMMERCIAL / BUSINESS OFFICE   \n",
       "1        THEFT       OVER $500                               APARTMENT   \n",
       "2        THEFT  POCKET-PICKING                  SPORTS ARENA / STADIUM   \n",
       "3        THEFT       OVER $500  PARKING LOT / GARAGE (NON RESIDENTIAL)   \n",
       "4        THEFT  $500 AND UNDER                               RESIDENCE   \n",
       "\n",
       "   Arrest  Domestic  ...   Latitude  Longitude                       Location  \\\n",
       "0   False     False  ...        NaN        NaN                            NaN   \n",
       "1    True      True  ...  41.962247 -87.655460    (41.962247182, -87.6554598)   \n",
       "2   False     False  ...        NaN        NaN                            NaN   \n",
       "3   False     False  ...  41.769329 -87.722522  (41.769329199, -87.722521726)   \n",
       "4   False     False  ...        NaN        NaN                            NaN   \n",
       "\n",
       "  No.   Community Name  Population  Area (sqmi)  Area (sqkm) Density (sqmi)  \\\n",
       "0  32         The Loop       42298         1.65         4.27       25635.15   \n",
       "1  03           Uptown       57182         2.32         6.01       24647.41   \n",
       "2  33  Near South Side       28795         1.78         4.61       16176.97   \n",
       "3  65        West Lawn       33662         2.95         7.64       11410.85   \n",
       "4  29   North Lawndale       34794         3.21         8.31       10839.25   \n",
       "\n",
       "   Density (sqkm)  \n",
       "0         9897.73  \n",
       "1         9516.37  \n",
       "2         6245.93  \n",
       "3         4405.73  \n",
       "4         4185.04  \n",
       "\n",
       "[5 rows x 29 columns]"
      ]
     },
     "execution_count": 51,
     "metadata": {},
     "output_type": "execute_result"
    }
   ],
   "source": [
    "theft_data.loc[:,'Community Area'] = theft_data['Community Area'].astype(str)\n",
    "theft_community_data = theft_data.merge(community_areas, left_on = 'Community Area', right_on = 'No.', how = 'left')\n",
    "theft_community_data['Community Name'] = theft_community_data['Community Name'].apply(lambda x: x.replace('(The) Loop[11]', 'The Loop'))\n",
    "theft_community_data.head() # The newly merged dataset with cleaned community names"
   ]
  },
  {
   "cell_type": "markdown",
   "id": "a0abcb0f",
   "metadata": {},
   "source": [
    "*By Ryu Kimiko*\n",
    "\n",
    "The following data preparation steps helped us to prepare our data for implementing various modeling / validation techniques:\n",
    "\n",
    "1. Since we need are analyzing house price, we derived some new variables *(from existing variables)* that intuitively seem to be associated with house price. \n",
    "\n",
    "2. We have created a standardized version of the dataset, as we are computing Euclidean distances to find houses similar to a given house"
   ]
  },
  {
   "cell_type": "markdown",
   "id": "4e582211",
   "metadata": {},
   "source": [
    "### Arrest data preparation\n",
    "\n",
    "*By Paisley Lucier*\n",
    "\n",
    "The following data preparation steps helped us to prepare our data for implementing various modeling / validation techniques:\n",
    "\n",
    "1. Since I will be considering arrest proportion by district, I will look at the distribution of district.\n",
    "\n",
    "2. We have created a standardized version of the dataset, as we are computing Euclidean distances to find houses similar to a given house"
   ]
  },
  {
   "cell_type": "code",
   "execution_count": 57,
   "id": "ef003c46",
   "metadata": {},
   "outputs": [
    {
     "data": {
      "text/plain": [
       "8     14811\n",
       "6     14709\n",
       "12    14353\n",
       "4     13948\n",
       "11    13474\n",
       "1     13058\n",
       "18    12444\n",
       "19    12259\n",
       "25    11955\n",
       "3     11937\n",
       "2     11799\n",
       "9     10375\n",
       "7     10323\n",
       "10     9970\n",
       "5      9785\n",
       "16     9242\n",
       "24     8474\n",
       "15     8310\n",
       "14     8166\n",
       "22     7674\n",
       "17     6996\n",
       "20     4967\n",
       "31       14\n",
       "Name: District, dtype: int64"
      ]
     },
     "execution_count": 57,
     "metadata": {},
     "output_type": "execute_result"
    }
   ],
   "source": [
    "raw_crime_data.District.value_counts()\n"
   ]
  },
  {
   "cell_type": "code",
   "execution_count": 40,
   "id": "1dba899f",
   "metadata": {},
   "outputs": [
    {
     "data": {
      "text/plain": [
       "5.856686872236376e-05"
      ]
     },
     "execution_count": 40,
     "metadata": {},
     "output_type": "execute_result"
    }
   ],
   "source": [
    "14 / raw_crime_data.shape[0]"
   ]
  },
  {
   "cell_type": "code",
   "execution_count": 58,
   "id": "9948e954",
   "metadata": {},
   "outputs": [
    {
     "data": {
      "text/html": [
       "<div>\n",
       "<style scoped>\n",
       "    .dataframe tbody tr th:only-of-type {\n",
       "        vertical-align: middle;\n",
       "    }\n",
       "\n",
       "    .dataframe tbody tr th {\n",
       "        vertical-align: top;\n",
       "    }\n",
       "\n",
       "    .dataframe thead th {\n",
       "        text-align: right;\n",
       "    }\n",
       "</style>\n",
       "<table border=\"1\" class=\"dataframe\">\n",
       "  <thead>\n",
       "    <tr style=\"text-align: right;\">\n",
       "      <th></th>\n",
       "      <th>ID</th>\n",
       "      <th>Case Number</th>\n",
       "      <th>Date</th>\n",
       "      <th>Block</th>\n",
       "      <th>IUCR</th>\n",
       "      <th>Primary Type</th>\n",
       "      <th>Description</th>\n",
       "      <th>Location Description</th>\n",
       "      <th>Arrest</th>\n",
       "      <th>Domestic</th>\n",
       "      <th>...</th>\n",
       "      <th>Community Area</th>\n",
       "      <th>FBI Code</th>\n",
       "      <th>X Coordinate</th>\n",
       "      <th>Y Coordinate</th>\n",
       "      <th>Year</th>\n",
       "      <th>Updated On</th>\n",
       "      <th>Latitude</th>\n",
       "      <th>Longitude</th>\n",
       "      <th>Location</th>\n",
       "      <th>Side</th>\n",
       "    </tr>\n",
       "  </thead>\n",
       "  <tbody>\n",
       "    <tr>\n",
       "      <th>0</th>\n",
       "      <td>12589893</td>\n",
       "      <td>JF109865</td>\n",
       "      <td>2022-01-11 15:00:00</td>\n",
       "      <td>087XX S KINGSTON AVE</td>\n",
       "      <td>1565</td>\n",
       "      <td>SEX OFFENSE</td>\n",
       "      <td>INDECENT SOLICITATION OF A CHILD</td>\n",
       "      <td>RESIDENCE</td>\n",
       "      <td>False</td>\n",
       "      <td>True</td>\n",
       "      <td>...</td>\n",
       "      <td>46</td>\n",
       "      <td>17</td>\n",
       "      <td>1194660.0</td>\n",
       "      <td>1847481.0</td>\n",
       "      <td>2022</td>\n",
       "      <td>09/14/2023 03:41:59 PM</td>\n",
       "      <td>41.736409</td>\n",
       "      <td>-87.562410</td>\n",
       "      <td>(41.736409029, -87.562410309)</td>\n",
       "      <td>South</td>\n",
       "    </tr>\n",
       "    <tr>\n",
       "      <th>1</th>\n",
       "      <td>12592454</td>\n",
       "      <td>JF113025</td>\n",
       "      <td>2022-01-14 15:55:00</td>\n",
       "      <td>067XX S MORGAN ST</td>\n",
       "      <td>2826</td>\n",
       "      <td>OTHER OFFENSE</td>\n",
       "      <td>HARASSMENT BY ELECTRONIC MEANS</td>\n",
       "      <td>RESIDENCE</td>\n",
       "      <td>False</td>\n",
       "      <td>True</td>\n",
       "      <td>...</td>\n",
       "      <td>68</td>\n",
       "      <td>26</td>\n",
       "      <td>1170805.0</td>\n",
       "      <td>1860170.0</td>\n",
       "      <td>2022</td>\n",
       "      <td>09/14/2023 03:41:59 PM</td>\n",
       "      <td>41.771782</td>\n",
       "      <td>-87.649437</td>\n",
       "      <td>(41.771782439, -87.649436929)</td>\n",
       "      <td>South</td>\n",
       "    </tr>\n",
       "    <tr>\n",
       "      <th>2</th>\n",
       "      <td>12785595</td>\n",
       "      <td>JF346553</td>\n",
       "      <td>2022-08-05 21:00:00</td>\n",
       "      <td>072XX S UNIVERSITY AVE</td>\n",
       "      <td>1544</td>\n",
       "      <td>SEX OFFENSE</td>\n",
       "      <td>SEXUAL EXPLOITATION OF A CHILD</td>\n",
       "      <td>APARTMENT</td>\n",
       "      <td>True</td>\n",
       "      <td>False</td>\n",
       "      <td>...</td>\n",
       "      <td>69</td>\n",
       "      <td>17</td>\n",
       "      <td>1185135.0</td>\n",
       "      <td>1857211.0</td>\n",
       "      <td>2022</td>\n",
       "      <td>09/14/2023 03:41:59 PM</td>\n",
       "      <td>41.763338</td>\n",
       "      <td>-87.597001</td>\n",
       "      <td>(41.763337967, -87.597001131)</td>\n",
       "      <td>Central</td>\n",
       "    </tr>\n",
       "    <tr>\n",
       "      <th>3</th>\n",
       "      <td>12808281</td>\n",
       "      <td>JF373517</td>\n",
       "      <td>2022-08-14 14:00:00</td>\n",
       "      <td>055XX W ARDMORE AVE</td>\n",
       "      <td>1562</td>\n",
       "      <td>SEX OFFENSE</td>\n",
       "      <td>AGGRAVATED CRIMINAL SEXUAL ABUSE</td>\n",
       "      <td>RESIDENCE</td>\n",
       "      <td>False</td>\n",
       "      <td>False</td>\n",
       "      <td>...</td>\n",
       "      <td>11</td>\n",
       "      <td>17</td>\n",
       "      <td>1138383.0</td>\n",
       "      <td>1937953.0</td>\n",
       "      <td>2022</td>\n",
       "      <td>09/14/2023 03:41:59 PM</td>\n",
       "      <td>41.985875</td>\n",
       "      <td>-87.766404</td>\n",
       "      <td>(41.985875279, -87.766403857)</td>\n",
       "      <td>North</td>\n",
       "    </tr>\n",
       "    <tr>\n",
       "      <th>4</th>\n",
       "      <td>12888104</td>\n",
       "      <td>JF469015</td>\n",
       "      <td>2022-11-10 03:47:00</td>\n",
       "      <td>072XX S MAY ST</td>\n",
       "      <td>1477</td>\n",
       "      <td>WEAPONS VIOLATION</td>\n",
       "      <td>RECKLESS FIREARM DISCHARGE</td>\n",
       "      <td>STREET</td>\n",
       "      <td>False</td>\n",
       "      <td>False</td>\n",
       "      <td>...</td>\n",
       "      <td>68</td>\n",
       "      <td>15</td>\n",
       "      <td>1169903.0</td>\n",
       "      <td>1856822.0</td>\n",
       "      <td>2022</td>\n",
       "      <td>09/14/2023 03:41:59 PM</td>\n",
       "      <td>41.762615</td>\n",
       "      <td>-87.652840</td>\n",
       "      <td>(41.76261474, -87.652840463)</td>\n",
       "      <td>South</td>\n",
       "    </tr>\n",
       "  </tbody>\n",
       "</table>\n",
       "<p>5 rows × 23 columns</p>\n",
       "</div>"
      ],
      "text/plain": [
       "         ID Case Number                Date                   Block  IUCR  \\\n",
       "0  12589893    JF109865 2022-01-11 15:00:00    087XX S KINGSTON AVE  1565   \n",
       "1  12592454    JF113025 2022-01-14 15:55:00       067XX S MORGAN ST  2826   \n",
       "2  12785595    JF346553 2022-08-05 21:00:00  072XX S UNIVERSITY AVE  1544   \n",
       "3  12808281    JF373517 2022-08-14 14:00:00     055XX W ARDMORE AVE  1562   \n",
       "4  12888104    JF469015 2022-11-10 03:47:00          072XX S MAY ST  1477   \n",
       "\n",
       "        Primary Type                       Description Location Description  \\\n",
       "0        SEX OFFENSE  INDECENT SOLICITATION OF A CHILD            RESIDENCE   \n",
       "1      OTHER OFFENSE    HARASSMENT BY ELECTRONIC MEANS            RESIDENCE   \n",
       "2        SEX OFFENSE    SEXUAL EXPLOITATION OF A CHILD            APARTMENT   \n",
       "3        SEX OFFENSE  AGGRAVATED CRIMINAL SEXUAL ABUSE            RESIDENCE   \n",
       "4  WEAPONS VIOLATION        RECKLESS FIREARM DISCHARGE               STREET   \n",
       "\n",
       "   Arrest  Domestic  ...  Community Area  FBI Code  X Coordinate  \\\n",
       "0   False      True  ...              46        17     1194660.0   \n",
       "1   False      True  ...              68        26     1170805.0   \n",
       "2    True     False  ...              69        17     1185135.0   \n",
       "3   False     False  ...              11        17     1138383.0   \n",
       "4   False     False  ...              68        15     1169903.0   \n",
       "\n",
       "   Y Coordinate  Year              Updated On   Latitude  Longitude  \\\n",
       "0     1847481.0  2022  09/14/2023 03:41:59 PM  41.736409 -87.562410   \n",
       "1     1860170.0  2022  09/14/2023 03:41:59 PM  41.771782 -87.649437   \n",
       "2     1857211.0  2022  09/14/2023 03:41:59 PM  41.763338 -87.597001   \n",
       "3     1937953.0  2022  09/14/2023 03:41:59 PM  41.985875 -87.766404   \n",
       "4     1856822.0  2022  09/14/2023 03:41:59 PM  41.762615 -87.652840   \n",
       "\n",
       "                        Location     Side  \n",
       "0  (41.736409029, -87.562410309)    South  \n",
       "1  (41.771782439, -87.649436929)    South  \n",
       "2  (41.763337967, -87.597001131)  Central  \n",
       "3  (41.985875279, -87.766403857)    North  \n",
       "4   (41.76261474, -87.652840463)    South  \n",
       "\n",
       "[5 rows x 23 columns]"
      ]
     },
     "execution_count": 58,
     "metadata": {},
     "output_type": "execute_result"
    }
   ],
   "source": [
    "# making a new column that bins the data into 'side' of Chicago--source:\n",
    "\n",
    "arrest_data = raw_crime_data.copy()\n",
    "arrest_data['Side'] = arrest_data.District\n",
    "arrest_data['Side'] = arrest_data['Side'].map({4: 'South', 5: 'South', 6: 'South', 7: 'South', 22: 'South', 31: 'South', \\\n",
    "                       11: \"North\", 14: 'North', 15: 'North', 16: 'North', 17: 'North', 19: 'North', 20: 'North',\\\n",
    "                       24: 'North', 25: 'North', 1: 'Central', 2: 'Central', 3: 'Central', 8: 'Central', \\\n",
    "                        9: 'Central', 10: 'Central', 12: 'Central', 13: 'Central', 18: 'Central'})\n",
    "arrest_data.head()"
   ]
  },
  {
   "cell_type": "code",
   "execution_count": 41,
   "id": "44fb131c",
   "metadata": {},
   "outputs": [],
   "source": [
    "# considering that district 31 has only 14 observations (which is 5.856686872236376e-03% of the observations),\n",
    "#and is split between the North and South side on the source map, I considered only the subset of crimes where\n",
    "# the district was not 31\n",
    "arrest_data = arrest_data.loc[arrest_data['District'] != 31, :]\n"
   ]
  },
  {
   "cell_type": "code",
   "execution_count": null,
   "id": "95ec83d8",
   "metadata": {},
   "outputs": [],
   "source": [
    "# read sentiments data\n",
    "sentiments = pd.read_csv('./Datasets/Police_Sentiment_Scores.csv')\n",
    "\n",
    "# convert start date to datetime, subset only the values from 2022\n",
    "\n",
    "sentiments['START_DATE'] = pd.to_datetime(sentiments['START_DATE'])\n",
    "sentiments['START_DATE'] = sentiments['START_DATE'].map(lambda x: True if x.year == 2022 else False)\n",
    "sentiments_2022 = sentiments.loc[sentiments['START_DATE'] == True, :]\n",
    "\n",
    "# also subset only the general columns\n",
    "sentiments_2022 = sentiments_2022.loc[:, ['DISTRICT', 'SAFETY', 'TRUST', 'T_RESPECT', 'T_LISTEN']]\n",
    "sentiments_2022"
   ]
  },
  {
   "cell_type": "markdown",
   "id": "8f6d9383",
   "metadata": {},
   "source": [
    "## Set graph settings"
   ]
  },
  {
   "cell_type": "code",
   "execution_count": null,
   "id": "a1d6c2dd",
   "metadata": {},
   "outputs": [],
   "source": []
  },
  {
   "cell_type": "markdown",
   "id": "fbb11c9b",
   "metadata": {},
   "source": [
    "## Exploratory data analysis"
   ]
  },
  {
   "cell_type": "markdown",
   "id": "e4bd74a9",
   "metadata": {},
   "source": [
    "Put code with comments. The comments should explain the code such that it can be easily understood. You may put text *(in a markdown cell)* before a large chunk of code to explain the overall purpose of the code, if it is not intuitive. **Put the name of the person / persons who contributed to each code chunk / set of code chunks.**"
   ]
  },
  {
   "cell_type": "markdown",
   "id": "e2cc5c7f",
   "metadata": {},
   "source": [
    "### Analysis 1\n",
    "*By \\<Name of person doing the analysis>*"
   ]
  },
  {
   "cell_type": "markdown",
   "id": "1b80efcc",
   "metadata": {},
   "source": [
    "### Analysis 2\n",
    "*By \\<Name of person doing the analysis>*"
   ]
  },
  {
   "cell_type": "markdown",
   "id": "0f2266f4",
   "metadata": {},
   "source": [
    "### Analysis 3\n",
    "*By \\<Name of person doing the analysis>*"
   ]
  },
  {
   "cell_type": "markdown",
   "id": "796df2f5",
   "metadata": {},
   "source": [
    "### Analysis 4\n",
    "*By \\<Paisley Lucier>*"
   ]
  },
  {
   "cell_type": "markdown",
   "id": "c1126b65",
   "metadata": {},
   "source": [
    "#### 1st visualization"
   ]
  },
  {
   "cell_type": "code",
   "execution_count": 62,
   "id": "50da8af2",
   "metadata": {},
   "outputs": [
    {
     "data": {
      "text/html": [
       "<div>\n",
       "<style scoped>\n",
       "    .dataframe tbody tr th:only-of-type {\n",
       "        vertical-align: middle;\n",
       "    }\n",
       "\n",
       "    .dataframe tbody tr th {\n",
       "        vertical-align: top;\n",
       "    }\n",
       "\n",
       "    .dataframe thead th {\n",
       "        text-align: right;\n",
       "    }\n",
       "</style>\n",
       "<table border=\"1\" class=\"dataframe\">\n",
       "  <thead>\n",
       "    <tr style=\"text-align: right;\">\n",
       "      <th></th>\n",
       "      <th>ID</th>\n",
       "      <th>Arrest</th>\n",
       "      <th>Domestic</th>\n",
       "      <th>Beat</th>\n",
       "      <th>District</th>\n",
       "      <th>Ward</th>\n",
       "      <th>Community Area</th>\n",
       "      <th>X Coordinate</th>\n",
       "      <th>Y Coordinate</th>\n",
       "      <th>Year</th>\n",
       "      <th>Latitude</th>\n",
       "      <th>Longitude</th>\n",
       "    </tr>\n",
       "    <tr>\n",
       "      <th>Side</th>\n",
       "      <th></th>\n",
       "      <th></th>\n",
       "      <th></th>\n",
       "      <th></th>\n",
       "      <th></th>\n",
       "      <th></th>\n",
       "      <th></th>\n",
       "      <th></th>\n",
       "      <th></th>\n",
       "      <th></th>\n",
       "      <th></th>\n",
       "      <th></th>\n",
       "    </tr>\n",
       "  </thead>\n",
       "  <tbody>\n",
       "    <tr>\n",
       "      <th>Central</th>\n",
       "      <td>1.273337e+07</td>\n",
       "      <td>0.107993</td>\n",
       "      <td>0.164096</td>\n",
       "      <td>813.361489</td>\n",
       "      <td>7.901587</td>\n",
       "      <td>18.560827</td>\n",
       "      <td>38.129553</td>\n",
       "      <td>1.169315e+06</td>\n",
       "      <td>1.883294e+06</td>\n",
       "      <td>2022.0</td>\n",
       "      <td>41.835260</td>\n",
       "      <td>-87.654221</td>\n",
       "    </tr>\n",
       "    <tr>\n",
       "      <th>North</th>\n",
       "      <td>1.274061e+07</td>\n",
       "      <td>0.131305</td>\n",
       "      <td>0.166681</td>\n",
       "      <td>1798.788545</td>\n",
       "      <td>17.753468</td>\n",
       "      <td>35.142533</td>\n",
       "      <td>19.727479</td>\n",
       "      <td>1.151533e+06</td>\n",
       "      <td>1.919441e+06</td>\n",
       "      <td>2022.0</td>\n",
       "      <td>41.934816</td>\n",
       "      <td>-87.718521</td>\n",
       "    </tr>\n",
       "    <tr>\n",
       "      <th>South</th>\n",
       "      <td>1.270867e+07</td>\n",
       "      <td>0.108976</td>\n",
       "      <td>0.259968</td>\n",
       "      <td>791.550989</td>\n",
       "      <td>7.696562</td>\n",
       "      <td>14.368980</td>\n",
       "      <td>57.591607</td>\n",
       "      <td>1.178837e+06</td>\n",
       "      <td>1.846047e+06</td>\n",
       "      <td>2022.0</td>\n",
       "      <td>41.732843</td>\n",
       "      <td>-87.620428</td>\n",
       "    </tr>\n",
       "  </tbody>\n",
       "</table>\n",
       "</div>"
      ],
      "text/plain": [
       "                   ID    Arrest  Domestic         Beat   District       Ward  \\\n",
       "Side                                                                           \n",
       "Central  1.273337e+07  0.107993  0.164096   813.361489   7.901587  18.560827   \n",
       "North    1.274061e+07  0.131305  0.166681  1798.788545  17.753468  35.142533   \n",
       "South    1.270867e+07  0.108976  0.259968   791.550989   7.696562  14.368980   \n",
       "\n",
       "         Community Area  X Coordinate  Y Coordinate    Year   Latitude  \\\n",
       "Side                                                                     \n",
       "Central       38.129553  1.169315e+06  1.883294e+06  2022.0  41.835260   \n",
       "North         19.727479  1.151533e+06  1.919441e+06  2022.0  41.934816   \n",
       "South         57.591607  1.178837e+06  1.846047e+06  2022.0  41.732843   \n",
       "\n",
       "         Longitude  \n",
       "Side                \n",
       "Central -87.654221  \n",
       "North   -87.718521  \n",
       "South   -87.620428  "
      ]
     },
     "execution_count": 62,
     "metadata": {},
     "output_type": "execute_result"
    }
   ],
   "source": [
    "# Visualizing proportion of crimes resulting in arrest across side\n",
    "grouped_sides = arrest_data.groupby(['Side'])\n",
    "grouped_sides_m = grouped_sides.mean()\n",
    "grouped_sides_m"
   ]
  },
  {
   "cell_type": "code",
   "execution_count": 63,
   "id": "526c5138",
   "metadata": {},
   "outputs": [
    {
     "data": {
      "image/png": "[encoded data removed]",
      "text/plain": [
       "<Figure size 640x480 with 1 Axes>"
      ]
     },
     "metadata": {},
     "output_type": "display_data"
    }
   ],
   "source": [
    "ax = sns.barplot(data=grouped_sides_m, x=grouped_sides_m.index, y='Arrest')\n",
    "ax.set_title(\"Percentage of Arrested Observations by Side\",\n",
    "                  fontdict = {'fontsize': 20,\n",
    "                              'fontweight': 'bold',\n",
    "                              'color': '#704434'})\n",
    "plt.show()"
   ]
  },
  {
   "cell_type": "markdown",
   "id": "3e1dfe5d",
   "metadata": {},
   "source": [
    "#### 2nd visualization\n"
   ]
  },
  {
   "cell_type": "code",
   "execution_count": null,
   "id": "c6441c07",
   "metadata": {},
   "outputs": [],
   "source": [
    "# to ensure that I am not comparing districts with almost 0 observances for a particular crime type, \n",
    "# I subset the top 12 crimes with the most overall observations"
   ]
  },
  {
   "cell_type": "markdown",
   "id": "da3f1397",
   "metadata": {},
   "source": [
    "# be sure to show where this is coming from !!"
   ]
  },
  {
   "cell_type": "code",
   "execution_count": 66,
   "id": "a4e192e1",
   "metadata": {},
   "outputs": [],
   "source": [
    "# Subset top 12 crimes\n",
    "top_12_crimes = arrest_data.loc[((arrest_data['Primary Type'] == 'THEFT') | \\\n",
    "                               (arrest_data['Primary Type'] == 'BATTERY') | \\\n",
    "                               (arrest_data['Primary Type'] == 'CRIMINAL DAMAGE') | \\\n",
    "                               (arrest_data['Primary Type'] == 'MOTOR VEHICLE THEFT') | \\\n",
    "                               (arrest_data['Primary Type'] == 'ASSAULT') | \\\n",
    "                               (arrest_data['Primary Type'] == 'DECEPTIVE PRACTICE') | \\\n",
    "                               (arrest_data['Primary Type'] == 'OTHER OFFENSE') | \\\n",
    "                               (arrest_data['Primary Type'] == 'ROBBERY') | \\\n",
    "                               (arrest_data['Primary Type'] == 'WEAPONS VIOLATION') | \\\n",
    "                               (arrest_data['Primary Type'] == 'BURGLARY') | \\\n",
    "                               (arrest_data['Primary Type'] == 'NARCOTICS') | \\\n",
    "                               (arrest_data['Primary Type'] == 'CRIMINAL TRESPASS')), :]"
   ]
  },
  {
   "cell_type": "code",
   "execution_count": 67,
   "id": "0b7aa07f",
   "metadata": {},
   "outputs": [],
   "source": [
    "# Group observations by side, get average arrest rate for each top 12 crime type by side\n",
    "grouped_side_type = top_12_crimes.groupby(['Side', 'Primary Type'])\n",
    "grouped_side_type_m = grouped_side_type.mean().loc[:, 'Arrest']\n",
    "grouped_side_type_m = grouped_side_type_m.reset_index() "
   ]
  },
  {
   "cell_type": "code",
   "execution_count": 68,
   "id": "60021e60",
   "metadata": {},
   "outputs": [
    {
     "data": {
      "image/png": "[encoded data removed]",
      "text/plain": [
       "<Figure size 640x480 with 1 Axes>"
      ]
     },
     "metadata": {},
     "output_type": "display_data"
    }
   ],
   "source": [
    "ax = sns.barplot(x='Primary Type',y='Arrest', hue='Side', data = grouped_side_type_m)\n",
    "ax.set_xticklabels(ax.get_xticklabels(),rotation=90, fontdict = {\n",
    "                              'color': '#704434'})\n",
    "ax.set_title(\"Arrest by Type of Crime (top 12 crimes)\",\n",
    "                  fontdict = {'fontsize': 20,\n",
    "                              'fontweight': 'bold',\n",
    "                              'color': '#704434'})\n",
    "ax.set_xlabel('Primary Type', fontsize=20)\n",
    "ax.set_ylabel('Arrest Proportion', fontsize=20)\n",
    "\n",
    "plt.show()"
   ]
  },
  {
   "cell_type": "markdown",
   "id": "e7977975",
   "metadata": {},
   "source": [
    "#### 3rd visualization"
   ]
  },
  {
   "cell_type": "code",
   "execution_count": null,
   "id": "d26cc5b4",
   "metadata": {},
   "outputs": [],
   "source": [
    "# Create count column to find total amount of observations of each of top 12 types in each district\n",
    "top_12_w_count = top_12_crimes.copy()\n",
    "grouped_districts_count = top_12_w_count.groupby(['District', 'Primary Type'])"
   ]
  },
  {
   "cell_type": "code",
   "execution_count": null,
   "id": "dd25e8ad",
   "metadata": {},
   "outputs": [],
   "source": [
    "grouped_districts_count_s = pd.DataFrame(grouped_districts_count.size(), columns=['Count'])"
   ]
  },
  {
   "cell_type": "code",
   "execution_count": null,
   "id": "cda3dfd5",
   "metadata": {},
   "outputs": [],
   "source": [
    "# Re-attach 'side' column\n",
    "grouped_districts_count_s['Side'] = grouped_districts_count_s.index.get_level_values(0)\n",
    "grouped_districts_count_s['Side'] = grouped_districts_count_s['Side'].map({4: 'South', 5: 'South', 6: 'South', 7: 'South', 22: 'South', 31: 'South', \\\n",
    "                       11: \"North\", 14: 'North', 15: 'North', 16: 'North', 17: 'North', 19: 'North', 20: 'North',\\\n",
    "                       24: 'North', 25: 'North', 1: 'Central', 2: 'Central', 3: 'Central', 8: 'Central', \\\n",
    "                        9: 'Central', 10: 'Central', 12: 'Central', 13: 'Central', 18: 'Central'})"
   ]
  },
  {
   "cell_type": "code",
   "execution_count": null,
   "id": "e44a7424",
   "metadata": {},
   "outputs": [],
   "source": [
    "# Get average mean arrest rate by type of crime per district\n",
    "grouped_districts_count_m = grouped_districts_count.mean()"
   ]
  },
  {
   "cell_type": "code",
   "execution_count": null,
   "id": "96d69d17",
   "metadata": {},
   "outputs": [],
   "source": [
    "# Merge these two datasets to get one dataset with count and arrest rate for each top 12 crime type in\n",
    "# every district\n",
    "arrest_sum_and_mean = pd.merge(grouped_districts_count_s.loc[:, ['Count', 'Side']], grouped_districts_count_m['Arrest'], right_index = True,\n",
    "               left_index = True)\n",
    "arrest_sum_and_mean = arrest_sum_and_mean.reset_index() \n",
    "arrest_sum_and_mean.head()"
   ]
  },
  {
   "cell_type": "markdown",
   "id": "acab331a",
   "metadata": {},
   "source": [
    "## Other sections"
   ]
  },
  {
   "cell_type": "markdown",
   "id": "ae5ec4c9",
   "metadata": {},
   "source": [
    "Put code with comments. The comments should explain the code such that it can be easily understood. You may put text *(in a markdown cell)* before a large chunk of code to explain the overall purpose of the code, if it is not intuitive. **Put the name of the person / persons who contributed to each code chunk / set of code chunks.**\n",
    "\n",
    "Put each model in a section of its name and mention the name of the team-member tuning the model. Below is an example:"
   ]
  },
  {
   "cell_type": "markdown",
   "id": "62a185cb",
   "metadata": {},
   "source": [
    "## Conclusions and Recommendations to stakeholder(s)\n",
    "\n",
    "You may or may not have code to put in this section. Delete this section if it is irrelevant."
   ]
  }
 ],
 "metadata": {
  "kernelspec": {
   "display_name": "Python 3 (ipykernel)",
   "language": "python",
   "name": "python3"
  },
  "language_info": {
   "codemirror_mode": {
    "name": "ipython",
    "version": 3
   },
   "file_extension": ".py",
   "mimetype": "text/x-python",
   "name": "python",
   "nbconvert_exporter": "python",
   "pygments_lexer": "ipython3",
   "version": "3.9.13"
  }
 },
 "nbformat": 4,
 "nbformat_minor": 5
}

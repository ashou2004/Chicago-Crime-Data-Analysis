{
 "cells": [
  {
   "cell_type": "markdown",
   "id": "3123f92c",
   "metadata": {},
   "source": [
    "# Project Proposal"
   ]
  },
  {
   "cell_type": "markdown",
   "id": "6ba6b6ec",
   "metadata": {},
   "source": [
    "## 1) Team Name"
   ]
  },
  {
   "cell_type": "markdown",
   "id": "5c263d59",
   "metadata": {},
   "source": [
    "GGAP"
   ]
  },
  {
   "cell_type": "markdown",
   "id": "1a4efe44",
   "metadata": {},
   "source": [
    "## 2) Member Names"
   ]
  },
  {
   "cell_type": "markdown",
   "id": "40af2a60",
   "metadata": {},
   "source": [
    "Grace Shao, Grace Chang, Alyssa Shou, Paisley Lucier"
   ]
  },
  {
   "cell_type": "markdown",
   "id": "36fd9329",
   "metadata": {},
   "source": [
    "## 3) Topic"
   ]
  },
  {
   "cell_type": "markdown",
   "id": "87d7386a",
   "metadata": {},
   "source": [
    "Crimes in Chicago in the year 2022"
   ]
  },
  {
   "cell_type": "markdown",
   "id": "11c4d2aa",
   "metadata": {},
   "source": [
    "## 4) Inspiration"
   ]
  },
  {
   "cell_type": "code",
   "execution_count": null,
   "id": "786c91d1",
   "metadata": {},
   "outputs": [],
   "source": []
  }
 ],
 "metadata": {
  "kernelspec": {
   "display_name": "Python 3 (ipykernel)",
   "language": "python",
   "name": "python3"
  },
  "language_info": {
   "codemirror_mode": {
    "name": "ipython",
    "version": 3
   },
   "file_extension": ".py",
   "mimetype": "text/x-python",
   "name": "python",
   "nbconvert_exporter": "python",
   "pygments_lexer": "ipython3",
   "version": "3.11.4"
  }
 },
 "nbformat": 4,
 "nbformat_minor": 5
}

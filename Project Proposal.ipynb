{
 "cells": [
  {
   "cell_type": "markdown",
   "id": "3123f92c",
   "metadata": {},
   "source": [
    "# Project Proposal"
   ]
  },
  {
   "cell_type": "markdown",
   "id": "6ba6b6ec",
   "metadata": {},
   "source": [
    "## 1) Team Name"
   ]
  },
  {
   "cell_type": "markdown",
   "id": "5c263d59",
   "metadata": {},
   "source": [
    "GGAP"
   ]
  },
  {
   "cell_type": "markdown",
   "id": "1a4efe44",
   "metadata": {},
   "source": [
    "## 2) Member Names"
   ]
  },
  {
   "cell_type": "markdown",
   "id": "40af2a60",
   "metadata": {},
   "source": [
    "Grace Shao, Grace Chang, Alyssa Shou, Paisley Lucier"
   ]
  },
  {
   "cell_type": "markdown",
   "id": "36fd9329",
   "metadata": {},
   "source": [
    "## 3) Topic"
   ]
  },
  {
   "cell_type": "markdown",
   "id": "87d7386a",
   "metadata": {},
   "source": [
    "Crimes in Chicago in the year 2022"
   ]
  },
  {
   "cell_type": "markdown",
   "id": "11c4d2aa",
   "metadata": {},
   "source": [
    "## 4) Inspiration"
   ]
  },
  {
   "cell_type": "markdown",
   "id": "fc4ef2d6",
   "metadata": {},
   "source": [
    "We wanted to explore something relevant to us that we were stakeholders in. We browsed the Chicago Data Portal datasets, and found a usable and applicable dataset about Chicago crimes."
   ]
  },
  {
   "cell_type": "markdown",
   "id": "f6b6fd81",
   "metadata": {},
   "source": [
    "## 5) EDA Questions"
   ]
  },
  {
   "cell_type": "markdown",
   "id": "4bbaa5b5",
   "metadata": {},
   "source": [
    "Paisley: For the same type of crime, does the police district of occurrence affect arrest rate?\n",
    "This could illuminate potential areas of over policing and differences in arrest rates by police district. It would also be relevant for Chicago residents + visitors to know which districts have stricter policing.\n",
    "\n",
    "Alyssa: How do the types of crimes vary throughout the day (ie. night vs. day, public vs. private, violent vs. nonviolent)?\n",
    "The purpose of exploring this question is to understand when certain crimes are more rampant. This will help stakeholders take the necessary precautions when commuting around the city or leaving their home. \n",
    "\n",
    "Grace Shao: Are there trends for the profile of a typical crime in the CTA system (community area, time of day, and nonviolent vs. violent)?\n",
    "For riders of the CTA, this question will help them determine which situations they should be vigilant in. For example, if a certain community area is rampant in theft, then they should be more watchful of personal belongings when riding through the area. Additionally, it could help people which areas to avoid completely, due to high levels of violent crime.\n",
    "\n",
    "Grace Chang: How does type of theft vary across community areas?\n",
    "This question is most relevant for commuters. For example, if you drive to work and park in a parking lot, you’d want to know if that community area is prone to car theft or car break-ins. Additionally, certain areas might have higher rates of property theft on public transportation, so you’d want to be extra careful about keeping track of your belongings.\n"
   ]
  },
  {
   "cell_type": "markdown",
   "id": "df925712",
   "metadata": {},
   "source": [
    "## 6) Data"
   ]
  },
  {
   "cell_type": "markdown",
   "id": "e6270eea",
   "metadata": {},
   "source": [
    "We are using crime data in 2022 from the City of Chicago. This data will help answer our questions as it is a comprehensive and credible dataset with variables that are relevant for our EDA questions.\n",
    "https://data.cityofchicago.org/Public-Safety/Crimes-2022/9hwr-2zxp \n",
    "\n",
    "There are 238986 observations along 22 columns in this dataset.\n",
    "\n",
    "**Continuous variables: 4**\n",
    "\n",
    "- Date\n",
    "- Latitude\n",
    "- Longitude\n",
    "- Location\n",
    "\n",
    "**Categorical Variables: 11**\n",
    "\n",
    "- Block\n",
    "- IUCR\n",
    "- Primary Type\n",
    "- Description \n",
    "- Location Description\n",
    "- Arrest\n",
    "- Domestic\n",
    "- Beat\n",
    "- District\n",
    "- Ward\n",
    "- Community Area\n",
    "\n",
    "The main variables of interest for us are Primary Type and Description, which according to the documentation is the primary and secondary description of the reported crime using Illinois’s Uniform Reporting Code. \n",
    "\n",
    "https://data.cityofchicago.org/widgets/c7ck-438e "
   ]
  },
  {
   "cell_type": "markdown",
   "id": "c6597738",
   "metadata": {},
   "source": [
    "## 7) Stakeholders"
   ]
  },
  {
   "cell_type": "markdown",
   "id": "64313b8e",
   "metadata": {},
   "source": [
    "The stakeholders are anybody who commutes to/lives in/is traveling to the city of Chicago. Some more specific demographics might include students, office commuters, and tourists.\n"
   ]
  }
 ],
 "metadata": {
  "kernelspec": {
   "display_name": "Python 3 (ipykernel)",
   "language": "python",
   "name": "python3"
  },
  "language_info": {
   "codemirror_mode": {
    "name": "ipython",
    "version": 3
   },
   "file_extension": ".py",
   "mimetype": "text/x-python",
   "name": "python",
   "nbconvert_exporter": "python",
   "pygments_lexer": "ipython3",
   "version": "3.11.4"
  }
 },
 "nbformat": 4,
 "nbformat_minor": 5
}
